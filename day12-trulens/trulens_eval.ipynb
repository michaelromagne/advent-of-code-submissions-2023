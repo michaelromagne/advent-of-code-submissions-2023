{
  "cells": [
    {
      "cell_type": "markdown",
      "metadata": {
        "id": "uJP5fQWwdOq6"
      },
      "source": [
        "# TruLens Quickstart\n",
        "\n",
        "In this quickstart you will create a RAG from scratch and learn how to log it and get feedback on an LLM response.\n",
        "\n",
        "For evaluation, we will leverage the \"hallucination triad\" of groundedness, context relevance and answer relevance.\n",
        "\n",
        "[![Open In Colab](https://colab.research.google.com/assets/colab-badge.svg)](https://colab.research.google.com/github/truera/trulens/blob/main/trulens_eval/examples/quickstart/quickstart.ipynb)"
      ]
    },
    {
      "cell_type": "code",
      "execution_count": 1,
      "metadata": {
        "id": "UEAojvaJdOq7"
      },
      "outputs": [
        {
          "name": "stdout",
          "output_type": "stream",
          "text": [
            "Looking in indexes: https://gitlab.gitguardian.ovh/api/v4/projects/435/packages/pypi/simple\n",
            "Requirement already satisfied: trulens_eval==0.18.3 in /home/michaelromagne/.cache/pypoetry/virtualenvs/day12-trulens-b1AmT3gU-py3.10/lib/python3.10/site-packages (0.18.3)\n",
            "Collecting chromadb==0.4.18\n",
            "  Downloading chromadb-0.4.18-py3-none-any.whl.metadata (7.4 kB)\n",
            "Collecting openai==1.3.7\n",
            "  Using cached openai-1.3.7-py3-none-any.whl.metadata (17 kB)\n",
            "Requirement already satisfied: cohere>=4.4.1 in /home/michaelromagne/.cache/pypoetry/virtualenvs/day12-trulens-b1AmT3gU-py3.10/lib/python3.10/site-packages (from trulens_eval==0.18.3) (4.37)\n",
            "Requirement already satisfied: datasets>=2.12.0 in /home/michaelromagne/.cache/pypoetry/virtualenvs/day12-trulens-b1AmT3gU-py3.10/lib/python3.10/site-packages (from trulens_eval==0.18.3) (2.15.0)\n",
            "Requirement already satisfied: python-dotenv>=1.0.0 in /home/michaelromagne/.cache/pypoetry/virtualenvs/day12-trulens-b1AmT3gU-py3.10/lib/python3.10/site-packages (from trulens_eval==0.18.3) (1.0.0)\n",
            "Requirement already satisfied: kaggle>=1.5.13 in /home/michaelromagne/.cache/pypoetry/virtualenvs/day12-trulens-b1AmT3gU-py3.10/lib/python3.10/site-packages (from trulens_eval==0.18.3) (1.5.16)\n",
            "Requirement already satisfied: langchain>=0.0.335 in /home/michaelromagne/.cache/pypoetry/virtualenvs/day12-trulens-b1AmT3gU-py3.10/lib/python3.10/site-packages (from trulens_eval==0.18.3) (0.0.350)\n",
            "Requirement already satisfied: typing-inspect>=0.8.0 in /home/michaelromagne/.cache/pypoetry/virtualenvs/day12-trulens-b1AmT3gU-py3.10/lib/python3.10/site-packages (from trulens_eval==0.18.3) (0.9.0)\n",
            "Requirement already satisfied: typing-extensions>=4.5.0 in /home/michaelromagne/.cache/pypoetry/virtualenvs/day12-trulens-b1AmT3gU-py3.10/lib/python3.10/site-packages (from trulens_eval==0.18.3) (4.9.0)\n",
            "Requirement already satisfied: llama-index>=0.8.69 in /home/michaelromagne/.cache/pypoetry/virtualenvs/day12-trulens-b1AmT3gU-py3.10/lib/python3.10/site-packages (from trulens_eval==0.18.3) (0.9.14.post3)\n",
            "Requirement already satisfied: html2text>=2020.1.16 in /home/michaelromagne/.cache/pypoetry/virtualenvs/day12-trulens-b1AmT3gU-py3.10/lib/python3.10/site-packages (from trulens_eval==0.18.3) (2020.1.16)\n",
            "Requirement already satisfied: merkle-json>=1.0.0 in /home/michaelromagne/.cache/pypoetry/virtualenvs/day12-trulens-b1AmT3gU-py3.10/lib/python3.10/site-packages (from trulens_eval==0.18.3) (1.0.0)\n",
            "Requirement already satisfied: millify>=0.1.1 in /home/michaelromagne/.cache/pypoetry/virtualenvs/day12-trulens-b1AmT3gU-py3.10/lib/python3.10/site-packages (from trulens_eval==0.18.3) (0.1.1)\n",
            "Requirement already satisfied: httpx>=0.23.3 in /home/michaelromagne/.cache/pypoetry/virtualenvs/day12-trulens-b1AmT3gU-py3.10/lib/python3.10/site-packages (from trulens_eval==0.18.3) (0.25.2)\n",
            "Requirement already satisfied: pinecone-client>=2.2.1 in /home/michaelromagne/.cache/pypoetry/virtualenvs/day12-trulens-b1AmT3gU-py3.10/lib/python3.10/site-packages (from trulens_eval==0.18.3) (2.2.4)\n",
            "Requirement already satisfied: pydantic<2,>=1.10.7 in /home/michaelromagne/.cache/pypoetry/virtualenvs/day12-trulens-b1AmT3gU-py3.10/lib/python3.10/site-packages (from trulens_eval==0.18.3) (1.10.13)\n",
            "Requirement already satisfied: humanize>=4.6.0 in /home/michaelromagne/.cache/pypoetry/virtualenvs/day12-trulens-b1AmT3gU-py3.10/lib/python3.10/site-packages (from trulens_eval==0.18.3) (4.9.0)\n",
            "Requirement already satisfied: slack-bolt>=1.18.0 in /home/michaelromagne/.cache/pypoetry/virtualenvs/day12-trulens-b1AmT3gU-py3.10/lib/python3.10/site-packages (from trulens_eval==0.18.3) (1.18.1)\n",
            "Requirement already satisfied: slack-sdk>=3.21.3 in /home/michaelromagne/.cache/pypoetry/virtualenvs/day12-trulens-b1AmT3gU-py3.10/lib/python3.10/site-packages (from trulens_eval==0.18.3) (3.26.1)\n",
            "Requirement already satisfied: streamlit>=1.27.0 in /home/michaelromagne/.cache/pypoetry/virtualenvs/day12-trulens-b1AmT3gU-py3.10/lib/python3.10/site-packages (from trulens_eval==0.18.3) (1.29.0)\n",
            "Requirement already satisfied: streamlit-aggrid>=0.3.4.post3 in /home/michaelromagne/.cache/pypoetry/virtualenvs/day12-trulens-b1AmT3gU-py3.10/lib/python3.10/site-packages (from trulens_eval==0.18.3) (0.3.4.post3)\n",
            "Requirement already satisfied: streamlit-extras>=0.2.7 in /home/michaelromagne/.cache/pypoetry/virtualenvs/day12-trulens-b1AmT3gU-py3.10/lib/python3.10/site-packages (from trulens_eval==0.18.3) (0.3.6)\n",
            "Requirement already satisfied: streamlit-javascript>=0.1.5 in /home/michaelromagne/.cache/pypoetry/virtualenvs/day12-trulens-b1AmT3gU-py3.10/lib/python3.10/site-packages (from trulens_eval==0.18.3) (0.1.5)\n",
            "Requirement already satisfied: transformers>=4.10.0 in /home/michaelromagne/.cache/pypoetry/virtualenvs/day12-trulens-b1AmT3gU-py3.10/lib/python3.10/site-packages (from trulens_eval==0.18.3) (4.36.0)\n",
            "Requirement already satisfied: frozendict>=2.3.8 in /home/michaelromagne/.cache/pypoetry/virtualenvs/day12-trulens-b1AmT3gU-py3.10/lib/python3.10/site-packages (from trulens_eval==0.18.3) (2.3.10)\n",
            "Requirement already satisfied: munch>=3.0.0 in /home/michaelromagne/.cache/pypoetry/virtualenvs/day12-trulens-b1AmT3gU-py3.10/lib/python3.10/site-packages (from trulens_eval==0.18.3) (4.0.0)\n",
            "Requirement already satisfied: ipywidgets>=8.0.6 in /home/michaelromagne/.cache/pypoetry/virtualenvs/day12-trulens-b1AmT3gU-py3.10/lib/python3.10/site-packages (from trulens_eval==0.18.3) (8.1.1)\n",
            "Requirement already satisfied: numpy>=1.23.5 in /home/michaelromagne/.cache/pypoetry/virtualenvs/day12-trulens-b1AmT3gU-py3.10/lib/python3.10/site-packages (from trulens_eval==0.18.3) (1.26.2)\n",
            "Requirement already satisfied: sqlalchemy>=2.0.19 in /home/michaelromagne/.cache/pypoetry/virtualenvs/day12-trulens-b1AmT3gU-py3.10/lib/python3.10/site-packages (from trulens_eval==0.18.3) (2.0.23)\n",
            "Requirement already satisfied: alembic>=1.11.2 in /home/michaelromagne/.cache/pypoetry/virtualenvs/day12-trulens-b1AmT3gU-py3.10/lib/python3.10/site-packages (from trulens_eval==0.18.3) (1.13.0)\n",
            "Requirement already satisfied: requests>=2.28 in /home/michaelromagne/.cache/pypoetry/virtualenvs/day12-trulens-b1AmT3gU-py3.10/lib/python3.10/site-packages (from chromadb==0.4.18) (2.31.0)\n",
            "Collecting chroma-hnswlib==0.7.3 (from chromadb==0.4.18)\n",
            "  Downloading chroma_hnswlib-0.7.3-cp310-cp310-manylinux_2_17_x86_64.manylinux2014_x86_64.whl.metadata (252 bytes)\n",
            "Collecting fastapi>=0.95.2 (from chromadb==0.4.18)\n",
            "  Downloading fastapi-0.105.0-py3-none-any.whl.metadata (24 kB)\n",
            "Collecting uvicorn>=0.18.3 (from uvicorn[standard]>=0.18.3->chromadb==0.4.18)\n",
            "  Using cached uvicorn-0.24.0.post1-py3-none-any.whl.metadata (6.4 kB)\n",
            "Collecting posthog>=2.4.0 (from chromadb==0.4.18)\n",
            "  Downloading posthog-3.1.0-py2.py3-none-any.whl.metadata (2.0 kB)\n",
            "Collecting pulsar-client>=3.1.0 (from chromadb==0.4.18)\n",
            "  Downloading pulsar_client-3.3.0-cp310-cp310-manylinux_2_17_x86_64.manylinux2014_x86_64.whl.metadata (1.0 kB)\n",
            "Collecting onnxruntime>=1.14.1 (from chromadb==0.4.18)\n",
            "  Downloading onnxruntime-1.16.3-cp310-cp310-manylinux_2_17_x86_64.manylinux2014_x86_64.whl.metadata (4.3 kB)\n",
            "Collecting opentelemetry-api>=1.2.0 (from chromadb==0.4.18)\n",
            "  Using cached opentelemetry_api-1.21.0-py3-none-any.whl.metadata (1.4 kB)\n",
            "Collecting opentelemetry-exporter-otlp-proto-grpc>=1.2.0 (from chromadb==0.4.18)\n",
            "  Downloading opentelemetry_exporter_otlp_proto_grpc-1.21.0-py3-none-any.whl.metadata (2.4 kB)\n",
            "Collecting opentelemetry-instrumentation-fastapi>=0.41b0 (from chromadb==0.4.18)\n",
            "  Downloading opentelemetry_instrumentation_fastapi-0.42b0-py3-none-any.whl.metadata (2.3 kB)\n",
            "Collecting opentelemetry-sdk>=1.2.0 (from chromadb==0.4.18)\n",
            "  Using cached opentelemetry_sdk-1.21.0-py3-none-any.whl.metadata (1.5 kB)\n",
            "Requirement already satisfied: tokenizers>=0.13.2 in /home/michaelromagne/.cache/pypoetry/virtualenvs/day12-trulens-b1AmT3gU-py3.10/lib/python3.10/site-packages (from chromadb==0.4.18) (0.15.0)\n",
            "Collecting pypika>=0.48.9 (from chromadb==0.4.18)\n",
            "  Downloading PyPika-0.48.9.tar.gz (67 kB)\n",
            "\u001b[2K     \u001b[38;2;114;156;31m━━━━━━━━━━━━━━━━━━━━━━━━━━━━━━━━━━━━━━━━\u001b[0m \u001b[32m67.3/67.3 kB\u001b[0m \u001b[31m8.0 MB/s\u001b[0m eta \u001b[36m0:00:00\u001b[0m\n",
            "\u001b[?25h  Installing build dependencies ... \u001b[?25ldone\n",
            "\u001b[?25h  Getting requirements to build wheel ... \u001b[?25ldone\n",
            "\u001b[?25h  Preparing metadata (pyproject.toml) ... \u001b[?25ldone\n",
            "\u001b[?25hRequirement already satisfied: tqdm>=4.65.0 in /home/michaelromagne/.cache/pypoetry/virtualenvs/day12-trulens-b1AmT3gU-py3.10/lib/python3.10/site-packages (from chromadb==0.4.18) (4.66.1)\n",
            "Collecting overrides>=7.3.1 (from chromadb==0.4.18)\n",
            "  Downloading overrides-7.4.0-py3-none-any.whl.metadata (5.7 kB)\n",
            "Collecting importlib-resources (from chromadb==0.4.18)\n",
            "  Downloading importlib_resources-6.1.1-py3-none-any.whl.metadata (4.1 kB)\n",
            "Collecting grpcio>=1.58.0 (from chromadb==0.4.18)\n",
            "  Downloading grpcio-1.60.0-cp310-cp310-manylinux_2_17_x86_64.manylinux2014_x86_64.whl.metadata (4.0 kB)\n",
            "Collecting bcrypt>=4.0.1 (from chromadb==0.4.18)\n",
            "  Using cached bcrypt-4.1.1-cp37-abi3-manylinux_2_28_x86_64.whl.metadata (9.2 kB)\n",
            "Collecting typer>=0.9.0 (from chromadb==0.4.18)\n",
            "  Using cached typer-0.9.0-py3-none-any.whl (45 kB)\n",
            "Collecting kubernetes>=28.1.0 (from chromadb==0.4.18)\n",
            "  Using cached kubernetes-28.1.0-py2.py3-none-any.whl.metadata (1.5 kB)\n",
            "Requirement already satisfied: tenacity>=8.2.3 in /home/michaelromagne/.cache/pypoetry/virtualenvs/day12-trulens-b1AmT3gU-py3.10/lib/python3.10/site-packages (from chromadb==0.4.18) (8.2.3)\n",
            "Requirement already satisfied: PyYAML>=6.0.0 in /home/michaelromagne/.cache/pypoetry/virtualenvs/day12-trulens-b1AmT3gU-py3.10/lib/python3.10/site-packages (from chromadb==0.4.18) (6.0.1)\n",
            "Collecting mmh3>=4.0.1 (from chromadb==0.4.18)\n",
            "  Downloading mmh3-4.0.1-cp310-cp310-manylinux_2_5_x86_64.manylinux1_x86_64.manylinux_2_17_x86_64.manylinux2014_x86_64.whl.metadata (13 kB)\n",
            "Collecting anyio<4,>=3.5.0 (from openai==1.3.7)\n",
            "  Using cached anyio-3.7.1-py3-none-any.whl.metadata (4.7 kB)\n",
            "Requirement already satisfied: distro<2,>=1.7.0 in /home/michaelromagne/.cache/pypoetry/virtualenvs/day12-trulens-b1AmT3gU-py3.10/lib/python3.10/site-packages (from openai==1.3.7) (1.8.0)\n",
            "Requirement already satisfied: sniffio in /home/michaelromagne/.cache/pypoetry/virtualenvs/day12-trulens-b1AmT3gU-py3.10/lib/python3.10/site-packages (from openai==1.3.7) (1.3.0)\n",
            "Requirement already satisfied: Mako in /home/michaelromagne/.cache/pypoetry/virtualenvs/day12-trulens-b1AmT3gU-py3.10/lib/python3.10/site-packages (from alembic>=1.11.2->trulens_eval==0.18.3) (1.3.0)\n",
            "Requirement already satisfied: idna>=2.8 in /home/michaelromagne/.cache/pypoetry/virtualenvs/day12-trulens-b1AmT3gU-py3.10/lib/python3.10/site-packages (from anyio<4,>=3.5.0->openai==1.3.7) (3.6)\n",
            "Requirement already satisfied: exceptiongroup in /home/michaelromagne/.cache/pypoetry/virtualenvs/day12-trulens-b1AmT3gU-py3.10/lib/python3.10/site-packages (from anyio<4,>=3.5.0->openai==1.3.7) (1.2.0)\n",
            "Requirement already satisfied: aiohttp<4.0,>=3.0 in /home/michaelromagne/.cache/pypoetry/virtualenvs/day12-trulens-b1AmT3gU-py3.10/lib/python3.10/site-packages (from cohere>=4.4.1->trulens_eval==0.18.3) (3.9.1)\n",
            "Requirement already satisfied: backoff<3.0,>=2.0 in /home/michaelromagne/.cache/pypoetry/virtualenvs/day12-trulens-b1AmT3gU-py3.10/lib/python3.10/site-packages (from cohere>=4.4.1->trulens_eval==0.18.3) (2.2.1)\n",
            "Requirement already satisfied: fastavro<2.0,>=1.8 in /home/michaelromagne/.cache/pypoetry/virtualenvs/day12-trulens-b1AmT3gU-py3.10/lib/python3.10/site-packages (from cohere>=4.4.1->trulens_eval==0.18.3) (1.9.1)\n",
            "Requirement already satisfied: importlib_metadata<7.0,>=6.0 in /home/michaelromagne/.cache/pypoetry/virtualenvs/day12-trulens-b1AmT3gU-py3.10/lib/python3.10/site-packages (from cohere>=4.4.1->trulens_eval==0.18.3) (6.11.0)\n",
            "Requirement already satisfied: urllib3<3,>=1.26 in /home/michaelromagne/.cache/pypoetry/virtualenvs/day12-trulens-b1AmT3gU-py3.10/lib/python3.10/site-packages (from cohere>=4.4.1->trulens_eval==0.18.3) (2.1.0)\n",
            "Requirement already satisfied: pyarrow>=8.0.0 in /home/michaelromagne/.cache/pypoetry/virtualenvs/day12-trulens-b1AmT3gU-py3.10/lib/python3.10/site-packages (from datasets>=2.12.0->trulens_eval==0.18.3) (14.0.1)\n",
            "Requirement already satisfied: pyarrow-hotfix in /home/michaelromagne/.cache/pypoetry/virtualenvs/day12-trulens-b1AmT3gU-py3.10/lib/python3.10/site-packages (from datasets>=2.12.0->trulens_eval==0.18.3) (0.6)\n",
            "Requirement already satisfied: dill<0.3.8,>=0.3.0 in /home/michaelromagne/.cache/pypoetry/virtualenvs/day12-trulens-b1AmT3gU-py3.10/lib/python3.10/site-packages (from datasets>=2.12.0->trulens_eval==0.18.3) (0.3.7)\n",
            "Requirement already satisfied: pandas in /home/michaelromagne/.cache/pypoetry/virtualenvs/day12-trulens-b1AmT3gU-py3.10/lib/python3.10/site-packages (from datasets>=2.12.0->trulens_eval==0.18.3) (2.1.4)\n",
            "Requirement already satisfied: xxhash in /home/michaelromagne/.cache/pypoetry/virtualenvs/day12-trulens-b1AmT3gU-py3.10/lib/python3.10/site-packages (from datasets>=2.12.0->trulens_eval==0.18.3) (3.4.1)\n",
            "Requirement already satisfied: multiprocess in /home/michaelromagne/.cache/pypoetry/virtualenvs/day12-trulens-b1AmT3gU-py3.10/lib/python3.10/site-packages (from datasets>=2.12.0->trulens_eval==0.18.3) (0.70.15)\n",
            "Requirement already satisfied: fsspec<=2023.10.0,>=2023.1.0 in /home/michaelromagne/.cache/pypoetry/virtualenvs/day12-trulens-b1AmT3gU-py3.10/lib/python3.10/site-packages (from fsspec[http]<=2023.10.0,>=2023.1.0->datasets>=2.12.0->trulens_eval==0.18.3) (2023.10.0)\n",
            "Requirement already satisfied: huggingface-hub>=0.18.0 in /home/michaelromagne/.cache/pypoetry/virtualenvs/day12-trulens-b1AmT3gU-py3.10/lib/python3.10/site-packages (from datasets>=2.12.0->trulens_eval==0.18.3) (0.19.4)\n",
            "Requirement already satisfied: packaging in /home/michaelromagne/.cache/pypoetry/virtualenvs/day12-trulens-b1AmT3gU-py3.10/lib/python3.10/site-packages (from datasets>=2.12.0->trulens_eval==0.18.3) (23.2)\n",
            "Collecting starlette<0.28.0,>=0.27.0 (from fastapi>=0.95.2->chromadb==0.4.18)\n",
            "  Downloading starlette-0.27.0-py3-none-any.whl.metadata (5.8 kB)\n",
            "Requirement already satisfied: certifi in /home/michaelromagne/.cache/pypoetry/virtualenvs/day12-trulens-b1AmT3gU-py3.10/lib/python3.10/site-packages (from httpx>=0.23.3->trulens_eval==0.18.3) (2023.11.17)\n",
            "Requirement already satisfied: httpcore==1.* in /home/michaelromagne/.cache/pypoetry/virtualenvs/day12-trulens-b1AmT3gU-py3.10/lib/python3.10/site-packages (from httpx>=0.23.3->trulens_eval==0.18.3) (1.0.2)\n",
            "Requirement already satisfied: h11<0.15,>=0.13 in /home/michaelromagne/.cache/pypoetry/virtualenvs/day12-trulens-b1AmT3gU-py3.10/lib/python3.10/site-packages (from httpcore==1.*->httpx>=0.23.3->trulens_eval==0.18.3) (0.14.0)\n",
            "Requirement already satisfied: comm>=0.1.3 in /home/michaelromagne/.cache/pypoetry/virtualenvs/day12-trulens-b1AmT3gU-py3.10/lib/python3.10/site-packages (from ipywidgets>=8.0.6->trulens_eval==0.18.3) (0.2.0)\n",
            "Requirement already satisfied: ipython>=6.1.0 in /home/michaelromagne/.cache/pypoetry/virtualenvs/day12-trulens-b1AmT3gU-py3.10/lib/python3.10/site-packages (from ipywidgets>=8.0.6->trulens_eval==0.18.3) (8.18.1)\n",
            "Requirement already satisfied: traitlets>=4.3.1 in /home/michaelromagne/.cache/pypoetry/virtualenvs/day12-trulens-b1AmT3gU-py3.10/lib/python3.10/site-packages (from ipywidgets>=8.0.6->trulens_eval==0.18.3) (5.14.0)\n",
            "Requirement already satisfied: widgetsnbextension~=4.0.9 in /home/michaelromagne/.cache/pypoetry/virtualenvs/day12-trulens-b1AmT3gU-py3.10/lib/python3.10/site-packages (from ipywidgets>=8.0.6->trulens_eval==0.18.3) (4.0.9)\n",
            "Requirement already satisfied: jupyterlab-widgets~=3.0.9 in /home/michaelromagne/.cache/pypoetry/virtualenvs/day12-trulens-b1AmT3gU-py3.10/lib/python3.10/site-packages (from ipywidgets>=8.0.6->trulens_eval==0.18.3) (3.0.9)\n",
            "Requirement already satisfied: six>=1.10 in /home/michaelromagne/.cache/pypoetry/virtualenvs/day12-trulens-b1AmT3gU-py3.10/lib/python3.10/site-packages (from kaggle>=1.5.13->trulens_eval==0.18.3) (1.16.0)\n",
            "Requirement already satisfied: python-dateutil in /home/michaelromagne/.cache/pypoetry/virtualenvs/day12-trulens-b1AmT3gU-py3.10/lib/python3.10/site-packages (from kaggle>=1.5.13->trulens_eval==0.18.3) (2.8.2)\n",
            "Requirement already satisfied: python-slugify in /home/michaelromagne/.cache/pypoetry/virtualenvs/day12-trulens-b1AmT3gU-py3.10/lib/python3.10/site-packages (from kaggle>=1.5.13->trulens_eval==0.18.3) (8.0.1)\n",
            "Requirement already satisfied: bleach in /home/michaelromagne/.cache/pypoetry/virtualenvs/day12-trulens-b1AmT3gU-py3.10/lib/python3.10/site-packages (from kaggle>=1.5.13->trulens_eval==0.18.3) (6.1.0)\n",
            "Collecting google-auth>=1.0.1 (from kubernetes>=28.1.0->chromadb==0.4.18)\n",
            "  Using cached google_auth-2.25.2-py2.py3-none-any.whl.metadata (4.7 kB)\n",
            "Collecting websocket-client!=0.40.0,!=0.41.*,!=0.42.*,>=0.32.0 (from kubernetes>=28.1.0->chromadb==0.4.18)\n",
            "  Using cached websocket_client-1.7.0-py3-none-any.whl.metadata (7.9 kB)\n",
            "Collecting requests-oauthlib (from kubernetes>=28.1.0->chromadb==0.4.18)\n",
            "  Using cached requests_oauthlib-1.3.1-py2.py3-none-any.whl (23 kB)\n",
            "Collecting oauthlib>=3.2.2 (from kubernetes>=28.1.0->chromadb==0.4.18)\n",
            "  Using cached oauthlib-3.2.2-py3-none-any.whl (151 kB)\n",
            "Collecting urllib3<3,>=1.26 (from cohere>=4.4.1->trulens_eval==0.18.3)\n",
            "  Using cached urllib3-1.26.18-py2.py3-none-any.whl.metadata (48 kB)\n",
            "Requirement already satisfied: async-timeout<5.0.0,>=4.0.0 in /home/michaelromagne/.cache/pypoetry/virtualenvs/day12-trulens-b1AmT3gU-py3.10/lib/python3.10/site-packages (from langchain>=0.0.335->trulens_eval==0.18.3) (4.0.3)\n",
            "Requirement already satisfied: dataclasses-json<0.7,>=0.5.7 in /home/michaelromagne/.cache/pypoetry/virtualenvs/day12-trulens-b1AmT3gU-py3.10/lib/python3.10/site-packages (from langchain>=0.0.335->trulens_eval==0.18.3) (0.6.3)\n",
            "Requirement already satisfied: jsonpatch<2.0,>=1.33 in /home/michaelromagne/.cache/pypoetry/virtualenvs/day12-trulens-b1AmT3gU-py3.10/lib/python3.10/site-packages (from langchain>=0.0.335->trulens_eval==0.18.3) (1.33)\n",
            "Requirement already satisfied: langchain-community<0.1,>=0.0.2 in /home/michaelromagne/.cache/pypoetry/virtualenvs/day12-trulens-b1AmT3gU-py3.10/lib/python3.10/site-packages (from langchain>=0.0.335->trulens_eval==0.18.3) (0.0.2)\n",
            "Requirement already satisfied: langchain-core<0.2,>=0.1 in /home/michaelromagne/.cache/pypoetry/virtualenvs/day12-trulens-b1AmT3gU-py3.10/lib/python3.10/site-packages (from langchain>=0.0.335->trulens_eval==0.18.3) (0.1.0)\n",
            "Requirement already satisfied: langsmith<0.1.0,>=0.0.63 in /home/michaelromagne/.cache/pypoetry/virtualenvs/day12-trulens-b1AmT3gU-py3.10/lib/python3.10/site-packages (from langchain>=0.0.335->trulens_eval==0.18.3) (0.0.69)\n",
            "Requirement already satisfied: beautifulsoup4<5.0.0,>=4.12.2 in /home/michaelromagne/.cache/pypoetry/virtualenvs/day12-trulens-b1AmT3gU-py3.10/lib/python3.10/site-packages (from llama-index>=0.8.69->trulens_eval==0.18.3) (4.12.2)\n",
            "Requirement already satisfied: deprecated>=1.2.9.3 in /home/michaelromagne/.cache/pypoetry/virtualenvs/day12-trulens-b1AmT3gU-py3.10/lib/python3.10/site-packages (from llama-index>=0.8.69->trulens_eval==0.18.3) (1.2.14)\n",
            "Requirement already satisfied: nest-asyncio<2.0.0,>=1.5.8 in /home/michaelromagne/.cache/pypoetry/virtualenvs/day12-trulens-b1AmT3gU-py3.10/lib/python3.10/site-packages (from llama-index>=0.8.69->trulens_eval==0.18.3) (1.5.8)\n",
            "Requirement already satisfied: nltk<4.0.0,>=3.8.1 in /home/michaelromagne/.cache/pypoetry/virtualenvs/day12-trulens-b1AmT3gU-py3.10/lib/python3.10/site-packages (from llama-index>=0.8.69->trulens_eval==0.18.3) (3.8.1)\n",
            "Requirement already satisfied: tiktoken>=0.3.3 in /home/michaelromagne/.cache/pypoetry/virtualenvs/day12-trulens-b1AmT3gU-py3.10/lib/python3.10/site-packages (from llama-index>=0.8.69->trulens_eval==0.18.3) (0.5.2)\n",
            "Collecting coloredlogs (from onnxruntime>=1.14.1->chromadb==0.4.18)\n",
            "  Downloading coloredlogs-15.0.1-py2.py3-none-any.whl (46 kB)\n",
            "\u001b[2K     \u001b[38;2;114;156;31m━━━━━━━━━━━━━━━━━━━━━━━━━━━━━━━━━━━━━━━━\u001b[0m \u001b[32m46.0/46.0 kB\u001b[0m \u001b[31m6.7 MB/s\u001b[0m eta \u001b[36m0:00:00\u001b[0m\n",
            "\u001b[?25hCollecting flatbuffers (from onnxruntime>=1.14.1->chromadb==0.4.18)\n",
            "  Downloading flatbuffers-23.5.26-py2.py3-none-any.whl.metadata (850 bytes)\n",
            "Requirement already satisfied: protobuf in /home/michaelromagne/.cache/pypoetry/virtualenvs/day12-trulens-b1AmT3gU-py3.10/lib/python3.10/site-packages (from onnxruntime>=1.14.1->chromadb==0.4.18) (4.25.1)\n",
            "Collecting sympy (from onnxruntime>=1.14.1->chromadb==0.4.18)\n",
            "  Downloading sympy-1.12-py3-none-any.whl (5.7 MB)\n",
            "\u001b[2K     \u001b[38;2;114;156;31m━━━━━━━━━━━━━━━━━━━━━━━━━━━━━━━━━━━━━━━━\u001b[0m \u001b[32m5.7/5.7 MB\u001b[0m \u001b[31m32.1 MB/s\u001b[0m eta \u001b[36m0:00:00\u001b[0m MB/s\u001b[0m eta \u001b[36m0:00:01\u001b[0m:01\u001b[0m\n",
            "\u001b[?25hCollecting googleapis-common-protos~=1.52 (from opentelemetry-exporter-otlp-proto-grpc>=1.2.0->chromadb==0.4.18)\n",
            "  Using cached googleapis_common_protos-1.62.0-py2.py3-none-any.whl.metadata (1.5 kB)\n",
            "Collecting opentelemetry-exporter-otlp-proto-common==1.21.0 (from opentelemetry-exporter-otlp-proto-grpc>=1.2.0->chromadb==0.4.18)\n",
            "  Downloading opentelemetry_exporter_otlp_proto_common-1.21.0-py3-none-any.whl.metadata (1.8 kB)\n",
            "Collecting opentelemetry-proto==1.21.0 (from opentelemetry-exporter-otlp-proto-grpc>=1.2.0->chromadb==0.4.18)\n",
            "  Downloading opentelemetry_proto-1.21.0-py3-none-any.whl.metadata (2.3 kB)\n",
            "Collecting opentelemetry-instrumentation-asgi==0.42b0 (from opentelemetry-instrumentation-fastapi>=0.41b0->chromadb==0.4.18)\n",
            "  Downloading opentelemetry_instrumentation_asgi-0.42b0-py3-none-any.whl.metadata (2.1 kB)\n",
            "Collecting opentelemetry-instrumentation==0.42b0 (from opentelemetry-instrumentation-fastapi>=0.41b0->chromadb==0.4.18)\n",
            "  Downloading opentelemetry_instrumentation-0.42b0-py3-none-any.whl.metadata (5.9 kB)\n",
            "Collecting opentelemetry-semantic-conventions==0.42b0 (from opentelemetry-instrumentation-fastapi>=0.41b0->chromadb==0.4.18)\n",
            "  Downloading opentelemetry_semantic_conventions-0.42b0-py3-none-any.whl.metadata (2.3 kB)\n",
            "Collecting opentelemetry-util-http==0.42b0 (from opentelemetry-instrumentation-fastapi>=0.41b0->chromadb==0.4.18)\n",
            "  Downloading opentelemetry_util_http-0.42b0-py3-none-any.whl.metadata (2.5 kB)\n",
            "Requirement already satisfied: setuptools>=16.0 in /home/michaelromagne/.cache/pypoetry/virtualenvs/day12-trulens-b1AmT3gU-py3.10/lib/python3.10/site-packages (from opentelemetry-instrumentation==0.42b0->opentelemetry-instrumentation-fastapi>=0.41b0->chromadb==0.4.18) (69.0.2)\n",
            "Requirement already satisfied: wrapt<2.0.0,>=1.0.0 in /home/michaelromagne/.cache/pypoetry/virtualenvs/day12-trulens-b1AmT3gU-py3.10/lib/python3.10/site-packages (from opentelemetry-instrumentation==0.42b0->opentelemetry-instrumentation-fastapi>=0.41b0->chromadb==0.4.18) (1.16.0)\n",
            "Collecting asgiref~=3.0 (from opentelemetry-instrumentation-asgi==0.42b0->opentelemetry-instrumentation-fastapi>=0.41b0->chromadb==0.4.18)\n",
            "  Using cached asgiref-3.7.2-py3-none-any.whl.metadata (9.2 kB)\n",
            "Requirement already satisfied: loguru>=0.5.0 in /home/michaelromagne/.cache/pypoetry/virtualenvs/day12-trulens-b1AmT3gU-py3.10/lib/python3.10/site-packages (from pinecone-client>=2.2.1->trulens_eval==0.18.3) (0.7.2)\n",
            "Requirement already satisfied: dnspython>=2.0.0 in /home/michaelromagne/.cache/pypoetry/virtualenvs/day12-trulens-b1AmT3gU-py3.10/lib/python3.10/site-packages (from pinecone-client>=2.2.1->trulens_eval==0.18.3) (2.4.2)\n",
            "Collecting monotonic>=1.5 (from posthog>=2.4.0->chromadb==0.4.18)\n",
            "  Downloading monotonic-1.6-py2.py3-none-any.whl (8.2 kB)\n",
            "Requirement already satisfied: charset-normalizer<4,>=2 in /home/michaelromagne/.cache/pypoetry/virtualenvs/day12-trulens-b1AmT3gU-py3.10/lib/python3.10/site-packages (from requests>=2.28->chromadb==0.4.18) (3.3.2)\n",
            "Requirement already satisfied: greenlet!=0.4.17 in /home/michaelromagne/.cache/pypoetry/virtualenvs/day12-trulens-b1AmT3gU-py3.10/lib/python3.10/site-packages (from sqlalchemy>=2.0.19->trulens_eval==0.18.3) (3.0.2)\n",
            "Requirement already satisfied: altair<6,>=4.0 in /home/michaelromagne/.cache/pypoetry/virtualenvs/day12-trulens-b1AmT3gU-py3.10/lib/python3.10/site-packages (from streamlit>=1.27.0->trulens_eval==0.18.3) (5.2.0)\n",
            "Requirement already satisfied: blinker<2,>=1.0.0 in /home/michaelromagne/.cache/pypoetry/virtualenvs/day12-trulens-b1AmT3gU-py3.10/lib/python3.10/site-packages (from streamlit>=1.27.0->trulens_eval==0.18.3) (1.7.0)\n",
            "Requirement already satisfied: cachetools<6,>=4.0 in /home/michaelromagne/.cache/pypoetry/virtualenvs/day12-trulens-b1AmT3gU-py3.10/lib/python3.10/site-packages (from streamlit>=1.27.0->trulens_eval==0.18.3) (5.3.2)\n",
            "Requirement already satisfied: click<9,>=7.0 in /home/michaelromagne/.cache/pypoetry/virtualenvs/day12-trulens-b1AmT3gU-py3.10/lib/python3.10/site-packages (from streamlit>=1.27.0->trulens_eval==0.18.3) (8.1.7)\n",
            "Requirement already satisfied: pillow<11,>=7.1.0 in /home/michaelromagne/.cache/pypoetry/virtualenvs/day12-trulens-b1AmT3gU-py3.10/lib/python3.10/site-packages (from streamlit>=1.27.0->trulens_eval==0.18.3) (10.1.0)\n",
            "Requirement already satisfied: rich<14,>=10.14.0 in /home/michaelromagne/.cache/pypoetry/virtualenvs/day12-trulens-b1AmT3gU-py3.10/lib/python3.10/site-packages (from streamlit>=1.27.0->trulens_eval==0.18.3) (13.7.0)\n",
            "Requirement already satisfied: toml<2,>=0.10.1 in /home/michaelromagne/.cache/pypoetry/virtualenvs/day12-trulens-b1AmT3gU-py3.10/lib/python3.10/site-packages (from streamlit>=1.27.0->trulens_eval==0.18.3) (0.10.2)\n",
            "Requirement already satisfied: tzlocal<6,>=1.1 in /home/michaelromagne/.cache/pypoetry/virtualenvs/day12-trulens-b1AmT3gU-py3.10/lib/python3.10/site-packages (from streamlit>=1.27.0->trulens_eval==0.18.3) (5.2)\n",
            "Requirement already satisfied: validators<1,>=0.2 in /home/michaelromagne/.cache/pypoetry/virtualenvs/day12-trulens-b1AmT3gU-py3.10/lib/python3.10/site-packages (from streamlit>=1.27.0->trulens_eval==0.18.3) (0.22.0)\n",
            "Requirement already satisfied: gitpython!=3.1.19,<4,>=3.0.7 in /home/michaelromagne/.cache/pypoetry/virtualenvs/day12-trulens-b1AmT3gU-py3.10/lib/python3.10/site-packages (from streamlit>=1.27.0->trulens_eval==0.18.3) (3.1.40)\n",
            "Requirement already satisfied: pydeck<1,>=0.8.0b4 in /home/michaelromagne/.cache/pypoetry/virtualenvs/day12-trulens-b1AmT3gU-py3.10/lib/python3.10/site-packages (from streamlit>=1.27.0->trulens_eval==0.18.3) (0.8.0)\n",
            "Requirement already satisfied: tornado<7,>=6.0.3 in /home/michaelromagne/.cache/pypoetry/virtualenvs/day12-trulens-b1AmT3gU-py3.10/lib/python3.10/site-packages (from streamlit>=1.27.0->trulens_eval==0.18.3) (6.4)\n",
            "Requirement already satisfied: watchdog>=2.1.5 in /home/michaelromagne/.cache/pypoetry/virtualenvs/day12-trulens-b1AmT3gU-py3.10/lib/python3.10/site-packages (from streamlit>=1.27.0->trulens_eval==0.18.3) (3.0.0)\n",
            "Requirement already satisfied: python-decouple<4.0,>=3.6 in /home/michaelromagne/.cache/pypoetry/virtualenvs/day12-trulens-b1AmT3gU-py3.10/lib/python3.10/site-packages (from streamlit-aggrid>=0.3.4.post3->trulens_eval==0.18.3) (3.8)\n",
            "Requirement already satisfied: entrypoints>=0.4 in /home/michaelromagne/.cache/pypoetry/virtualenvs/day12-trulens-b1AmT3gU-py3.10/lib/python3.10/site-packages (from streamlit-extras>=0.2.7->trulens_eval==0.18.3) (0.4)\n",
            "Requirement already satisfied: htbuilder>=0.6.2 in /home/michaelromagne/.cache/pypoetry/virtualenvs/day12-trulens-b1AmT3gU-py3.10/lib/python3.10/site-packages (from streamlit-extras>=0.2.7->trulens_eval==0.18.3) (0.6.2)\n",
            "Requirement already satisfied: markdownlit>=0.0.5 in /home/michaelromagne/.cache/pypoetry/virtualenvs/day12-trulens-b1AmT3gU-py3.10/lib/python3.10/site-packages (from streamlit-extras>=0.2.7->trulens_eval==0.18.3) (0.0.7)\n",
            "Requirement already satisfied: st-annotated-text>=3.0.0 in /home/michaelromagne/.cache/pypoetry/virtualenvs/day12-trulens-b1AmT3gU-py3.10/lib/python3.10/site-packages (from streamlit-extras>=0.2.7->trulens_eval==0.18.3) (4.0.1)\n",
            "Requirement already satisfied: streamlit-camera-input-live>=0.2.0 in /home/michaelromagne/.cache/pypoetry/virtualenvs/day12-trulens-b1AmT3gU-py3.10/lib/python3.10/site-packages (from streamlit-extras>=0.2.7->trulens_eval==0.18.3) (0.2.0)\n",
            "Requirement already satisfied: streamlit-card>=0.0.4 in /home/michaelromagne/.cache/pypoetry/virtualenvs/day12-trulens-b1AmT3gU-py3.10/lib/python3.10/site-packages (from streamlit-extras>=0.2.7->trulens_eval==0.18.3) (1.0.0)\n",
            "Requirement already satisfied: streamlit-embedcode>=0.1.2 in /home/michaelromagne/.cache/pypoetry/virtualenvs/day12-trulens-b1AmT3gU-py3.10/lib/python3.10/site-packages (from streamlit-extras>=0.2.7->trulens_eval==0.18.3) (0.1.2)\n",
            "Requirement already satisfied: streamlit-faker>=0.0.2 in /home/michaelromagne/.cache/pypoetry/virtualenvs/day12-trulens-b1AmT3gU-py3.10/lib/python3.10/site-packages (from streamlit-extras>=0.2.7->trulens_eval==0.18.3) (0.0.3)\n",
            "Requirement already satisfied: streamlit-image-coordinates<0.2.0,>=0.1.1 in /home/michaelromagne/.cache/pypoetry/virtualenvs/day12-trulens-b1AmT3gU-py3.10/lib/python3.10/site-packages (from streamlit-extras>=0.2.7->trulens_eval==0.18.3) (0.1.6)\n",
            "Requirement already satisfied: streamlit-keyup>=0.1.9 in /home/michaelromagne/.cache/pypoetry/virtualenvs/day12-trulens-b1AmT3gU-py3.10/lib/python3.10/site-packages (from streamlit-extras>=0.2.7->trulens_eval==0.18.3) (0.2.2)\n",
            "Requirement already satisfied: streamlit-toggle-switch>=1.0.2 in /home/michaelromagne/.cache/pypoetry/virtualenvs/day12-trulens-b1AmT3gU-py3.10/lib/python3.10/site-packages (from streamlit-extras>=0.2.7->trulens_eval==0.18.3) (1.0.2)\n",
            "Requirement already satisfied: streamlit-vertical-slider>=1.0.2 in /home/michaelromagne/.cache/pypoetry/virtualenvs/day12-trulens-b1AmT3gU-py3.10/lib/python3.10/site-packages (from streamlit-extras>=0.2.7->trulens_eval==0.18.3) (1.0.2)\n",
            "Requirement already satisfied: filelock in /home/michaelromagne/.cache/pypoetry/virtualenvs/day12-trulens-b1AmT3gU-py3.10/lib/python3.10/site-packages (from transformers>=4.10.0->trulens_eval==0.18.3) (3.13.1)\n",
            "Requirement already satisfied: regex!=2019.12.17 in /home/michaelromagne/.cache/pypoetry/virtualenvs/day12-trulens-b1AmT3gU-py3.10/lib/python3.10/site-packages (from transformers>=4.10.0->trulens_eval==0.18.3) (2023.10.3)\n",
            "Requirement already satisfied: safetensors>=0.3.1 in /home/michaelromagne/.cache/pypoetry/virtualenvs/day12-trulens-b1AmT3gU-py3.10/lib/python3.10/site-packages (from transformers>=4.10.0->trulens_eval==0.18.3) (0.4.1)\n",
            "Requirement already satisfied: mypy-extensions>=0.3.0 in /home/michaelromagne/.cache/pypoetry/virtualenvs/day12-trulens-b1AmT3gU-py3.10/lib/python3.10/site-packages (from typing-inspect>=0.8.0->trulens_eval==0.18.3) (1.0.0)\n",
            "Collecting httptools>=0.5.0 (from uvicorn[standard]>=0.18.3->chromadb==0.4.18)\n",
            "  Downloading httptools-0.6.1-cp310-cp310-manylinux_2_5_x86_64.manylinux1_x86_64.manylinux_2_17_x86_64.manylinux2014_x86_64.whl.metadata (3.6 kB)\n",
            "Collecting uvloop!=0.15.0,!=0.15.1,>=0.14.0 (from uvicorn[standard]>=0.18.3->chromadb==0.4.18)\n",
            "  Downloading uvloop-0.19.0-cp310-cp310-manylinux_2_17_x86_64.manylinux2014_x86_64.whl.metadata (4.9 kB)\n",
            "Collecting watchfiles>=0.13 (from uvicorn[standard]>=0.18.3->chromadb==0.4.18)\n",
            "  Using cached watchfiles-0.21.0-cp310-cp310-manylinux_2_17_x86_64.manylinux2014_x86_64.whl.metadata (4.9 kB)\n",
            "Collecting websockets>=10.4 (from uvicorn[standard]>=0.18.3->chromadb==0.4.18)\n",
            "  Downloading websockets-12.0-cp310-cp310-manylinux_2_5_x86_64.manylinux1_x86_64.manylinux_2_17_x86_64.manylinux2014_x86_64.whl.metadata (6.6 kB)\n",
            "Requirement already satisfied: attrs>=17.3.0 in /home/michaelromagne/.cache/pypoetry/virtualenvs/day12-trulens-b1AmT3gU-py3.10/lib/python3.10/site-packages (from aiohttp<4.0,>=3.0->cohere>=4.4.1->trulens_eval==0.18.3) (23.1.0)\n",
            "Requirement already satisfied: multidict<7.0,>=4.5 in /home/michaelromagne/.cache/pypoetry/virtualenvs/day12-trulens-b1AmT3gU-py3.10/lib/python3.10/site-packages (from aiohttp<4.0,>=3.0->cohere>=4.4.1->trulens_eval==0.18.3) (6.0.4)\n",
            "Requirement already satisfied: yarl<2.0,>=1.0 in /home/michaelromagne/.cache/pypoetry/virtualenvs/day12-trulens-b1AmT3gU-py3.10/lib/python3.10/site-packages (from aiohttp<4.0,>=3.0->cohere>=4.4.1->trulens_eval==0.18.3) (1.9.4)\n",
            "Requirement already satisfied: frozenlist>=1.1.1 in /home/michaelromagne/.cache/pypoetry/virtualenvs/day12-trulens-b1AmT3gU-py3.10/lib/python3.10/site-packages (from aiohttp<4.0,>=3.0->cohere>=4.4.1->trulens_eval==0.18.3) (1.4.0)\n",
            "Requirement already satisfied: aiosignal>=1.1.2 in /home/michaelromagne/.cache/pypoetry/virtualenvs/day12-trulens-b1AmT3gU-py3.10/lib/python3.10/site-packages (from aiohttp<4.0,>=3.0->cohere>=4.4.1->trulens_eval==0.18.3) (1.3.1)\n",
            "Requirement already satisfied: jinja2 in /home/michaelromagne/.cache/pypoetry/virtualenvs/day12-trulens-b1AmT3gU-py3.10/lib/python3.10/site-packages (from altair<6,>=4.0->streamlit>=1.27.0->trulens_eval==0.18.3) (3.1.2)\n",
            "Requirement already satisfied: jsonschema>=3.0 in /home/michaelromagne/.cache/pypoetry/virtualenvs/day12-trulens-b1AmT3gU-py3.10/lib/python3.10/site-packages (from altair<6,>=4.0->streamlit>=1.27.0->trulens_eval==0.18.3) (4.20.0)\n",
            "Requirement already satisfied: toolz in /home/michaelromagne/.cache/pypoetry/virtualenvs/day12-trulens-b1AmT3gU-py3.10/lib/python3.10/site-packages (from altair<6,>=4.0->streamlit>=1.27.0->trulens_eval==0.18.3) (0.12.0)\n",
            "Requirement already satisfied: soupsieve>1.2 in /home/michaelromagne/.cache/pypoetry/virtualenvs/day12-trulens-b1AmT3gU-py3.10/lib/python3.10/site-packages (from beautifulsoup4<5.0.0,>=4.12.2->llama-index>=0.8.69->trulens_eval==0.18.3) (2.5)\n",
            "Requirement already satisfied: marshmallow<4.0.0,>=3.18.0 in /home/michaelromagne/.cache/pypoetry/virtualenvs/day12-trulens-b1AmT3gU-py3.10/lib/python3.10/site-packages (from dataclasses-json<0.7,>=0.5.7->langchain>=0.0.335->trulens_eval==0.18.3) (3.20.1)\n",
            "Requirement already satisfied: gitdb<5,>=4.0.1 in /home/michaelromagne/.cache/pypoetry/virtualenvs/day12-trulens-b1AmT3gU-py3.10/lib/python3.10/site-packages (from gitpython!=3.1.19,<4,>=3.0.7->streamlit>=1.27.0->trulens_eval==0.18.3) (4.0.11)\n",
            "Collecting pyasn1-modules>=0.2.1 (from google-auth>=1.0.1->kubernetes>=28.1.0->chromadb==0.4.18)\n",
            "  Using cached pyasn1_modules-0.3.0-py2.py3-none-any.whl (181 kB)\n",
            "Collecting rsa<5,>=3.1.4 (from google-auth>=1.0.1->kubernetes>=28.1.0->chromadb==0.4.18)\n",
            "  Using cached rsa-4.9-py3-none-any.whl (34 kB)\n",
            "Requirement already satisfied: more-itertools in /home/michaelromagne/.cache/pypoetry/virtualenvs/day12-trulens-b1AmT3gU-py3.10/lib/python3.10/site-packages (from htbuilder>=0.6.2->streamlit-extras>=0.2.7->trulens_eval==0.18.3) (10.1.0)\n",
            "Requirement already satisfied: zipp>=0.5 in /home/michaelromagne/.cache/pypoetry/virtualenvs/day12-trulens-b1AmT3gU-py3.10/lib/python3.10/site-packages (from importlib_metadata<7.0,>=6.0->cohere>=4.4.1->trulens_eval==0.18.3) (3.17.0)\n",
            "Requirement already satisfied: decorator in /home/michaelromagne/.cache/pypoetry/virtualenvs/day12-trulens-b1AmT3gU-py3.10/lib/python3.10/site-packages (from ipython>=6.1.0->ipywidgets>=8.0.6->trulens_eval==0.18.3) (5.1.1)\n",
            "Requirement already satisfied: jedi>=0.16 in /home/michaelromagne/.cache/pypoetry/virtualenvs/day12-trulens-b1AmT3gU-py3.10/lib/python3.10/site-packages (from ipython>=6.1.0->ipywidgets>=8.0.6->trulens_eval==0.18.3) (0.19.1)\n",
            "Requirement already satisfied: matplotlib-inline in /home/michaelromagne/.cache/pypoetry/virtualenvs/day12-trulens-b1AmT3gU-py3.10/lib/python3.10/site-packages (from ipython>=6.1.0->ipywidgets>=8.0.6->trulens_eval==0.18.3) (0.1.6)\n",
            "Requirement already satisfied: prompt-toolkit<3.1.0,>=3.0.41 in /home/michaelromagne/.cache/pypoetry/virtualenvs/day12-trulens-b1AmT3gU-py3.10/lib/python3.10/site-packages (from ipython>=6.1.0->ipywidgets>=8.0.6->trulens_eval==0.18.3) (3.0.43)\n",
            "Requirement already satisfied: pygments>=2.4.0 in /home/michaelromagne/.cache/pypoetry/virtualenvs/day12-trulens-b1AmT3gU-py3.10/lib/python3.10/site-packages (from ipython>=6.1.0->ipywidgets>=8.0.6->trulens_eval==0.18.3) (2.17.2)\n",
            "Requirement already satisfied: stack-data in /home/michaelromagne/.cache/pypoetry/virtualenvs/day12-trulens-b1AmT3gU-py3.10/lib/python3.10/site-packages (from ipython>=6.1.0->ipywidgets>=8.0.6->trulens_eval==0.18.3) (0.6.3)\n",
            "Requirement already satisfied: pexpect>4.3 in /home/michaelromagne/.cache/pypoetry/virtualenvs/day12-trulens-b1AmT3gU-py3.10/lib/python3.10/site-packages (from ipython>=6.1.0->ipywidgets>=8.0.6->trulens_eval==0.18.3) (4.9.0)\n",
            "Requirement already satisfied: jsonpointer>=1.9 in /home/michaelromagne/.cache/pypoetry/virtualenvs/day12-trulens-b1AmT3gU-py3.10/lib/python3.10/site-packages (from jsonpatch<2.0,>=1.33->langchain>=0.0.335->trulens_eval==0.18.3) (2.4)\n",
            "Requirement already satisfied: markdown in /home/michaelromagne/.cache/pypoetry/virtualenvs/day12-trulens-b1AmT3gU-py3.10/lib/python3.10/site-packages (from markdownlit>=0.0.5->streamlit-extras>=0.2.7->trulens_eval==0.18.3) (3.5.1)\n",
            "Requirement already satisfied: lxml in /home/michaelromagne/.cache/pypoetry/virtualenvs/day12-trulens-b1AmT3gU-py3.10/lib/python3.10/site-packages (from markdownlit>=0.0.5->streamlit-extras>=0.2.7->trulens_eval==0.18.3) (4.9.3)\n",
            "Requirement already satisfied: favicon in /home/michaelromagne/.cache/pypoetry/virtualenvs/day12-trulens-b1AmT3gU-py3.10/lib/python3.10/site-packages (from markdownlit>=0.0.5->streamlit-extras>=0.2.7->trulens_eval==0.18.3) (0.7.0)\n",
            "Requirement already satisfied: pymdown-extensions in /home/michaelromagne/.cache/pypoetry/virtualenvs/day12-trulens-b1AmT3gU-py3.10/lib/python3.10/site-packages (from markdownlit>=0.0.5->streamlit-extras>=0.2.7->trulens_eval==0.18.3) (10.5)\n",
            "Requirement already satisfied: joblib in /home/michaelromagne/.cache/pypoetry/virtualenvs/day12-trulens-b1AmT3gU-py3.10/lib/python3.10/site-packages (from nltk<4.0.0,>=3.8.1->llama-index>=0.8.69->trulens_eval==0.18.3) (1.3.2)\n",
            "Requirement already satisfied: pytz>=2020.1 in /home/michaelromagne/.cache/pypoetry/virtualenvs/day12-trulens-b1AmT3gU-py3.10/lib/python3.10/site-packages (from pandas->datasets>=2.12.0->trulens_eval==0.18.3) (2023.3.post1)\n",
            "Requirement already satisfied: tzdata>=2022.1 in /home/michaelromagne/.cache/pypoetry/virtualenvs/day12-trulens-b1AmT3gU-py3.10/lib/python3.10/site-packages (from pandas->datasets>=2.12.0->trulens_eval==0.18.3) (2023.3)\n",
            "Requirement already satisfied: markdown-it-py>=2.2.0 in /home/michaelromagne/.cache/pypoetry/virtualenvs/day12-trulens-b1AmT3gU-py3.10/lib/python3.10/site-packages (from rich<14,>=10.14.0->streamlit>=1.27.0->trulens_eval==0.18.3) (3.0.0)\n",
            "Requirement already satisfied: faker in /home/michaelromagne/.cache/pypoetry/virtualenvs/day12-trulens-b1AmT3gU-py3.10/lib/python3.10/site-packages (from streamlit-faker>=0.0.2->streamlit-extras>=0.2.7->trulens_eval==0.18.3) (20.1.0)\n",
            "Requirement already satisfied: matplotlib in /home/michaelromagne/.cache/pypoetry/virtualenvs/day12-trulens-b1AmT3gU-py3.10/lib/python3.10/site-packages (from streamlit-faker>=0.0.2->streamlit-extras>=0.2.7->trulens_eval==0.18.3) (3.8.2)\n",
            "Requirement already satisfied: webencodings in /home/michaelromagne/.cache/pypoetry/virtualenvs/day12-trulens-b1AmT3gU-py3.10/lib/python3.10/site-packages (from bleach->kaggle>=1.5.13->trulens_eval==0.18.3) (0.5.1)\n",
            "Collecting humanfriendly>=9.1 (from coloredlogs->onnxruntime>=1.14.1->chromadb==0.4.18)\n",
            "  Downloading humanfriendly-10.0-py2.py3-none-any.whl (86 kB)\n",
            "\u001b[2K     \u001b[38;2;114;156;31m━━━━━━━━━━━━━━━━━━━━━━━━━━━━━━━━━━━━━━━━\u001b[0m \u001b[32m86.8/86.8 kB\u001b[0m \u001b[31m22.7 MB/s\u001b[0m eta \u001b[36m0:00:00\u001b[0m\n",
            "\u001b[?25hRequirement already satisfied: MarkupSafe>=0.9.2 in /home/michaelromagne/.cache/pypoetry/virtualenvs/day12-trulens-b1AmT3gU-py3.10/lib/python3.10/site-packages (from Mako->alembic>=1.11.2->trulens_eval==0.18.3) (2.1.3)\n",
            "Requirement already satisfied: text-unidecode>=1.3 in /home/michaelromagne/.cache/pypoetry/virtualenvs/day12-trulens-b1AmT3gU-py3.10/lib/python3.10/site-packages (from python-slugify->kaggle>=1.5.13->trulens_eval==0.18.3) (1.3)\n",
            "Collecting mpmath>=0.19 (from sympy->onnxruntime>=1.14.1->chromadb==0.4.18)\n",
            "  Downloading mpmath-1.3.0-py3-none-any.whl (536 kB)\n",
            "\u001b[2K     \u001b[38;2;114;156;31m━━━━━━━━━━━━━━━━━━━━━━━━━━━━━━━━━━━━━━\u001b[0m \u001b[32m536.2/536.2 kB\u001b[0m \u001b[31m26.8 MB/s\u001b[0m eta \u001b[36m0:00:00\u001b[0m\n",
            "\u001b[?25hRequirement already satisfied: smmap<6,>=3.0.1 in /home/michaelromagne/.cache/pypoetry/virtualenvs/day12-trulens-b1AmT3gU-py3.10/lib/python3.10/site-packages (from gitdb<5,>=4.0.1->gitpython!=3.1.19,<4,>=3.0.7->streamlit>=1.27.0->trulens_eval==0.18.3) (5.0.1)\n",
            "Requirement already satisfied: parso<0.9.0,>=0.8.3 in /home/michaelromagne/.cache/pypoetry/virtualenvs/day12-trulens-b1AmT3gU-py3.10/lib/python3.10/site-packages (from jedi>=0.16->ipython>=6.1.0->ipywidgets>=8.0.6->trulens_eval==0.18.3) (0.8.3)\n",
            "Requirement already satisfied: jsonschema-specifications>=2023.03.6 in /home/michaelromagne/.cache/pypoetry/virtualenvs/day12-trulens-b1AmT3gU-py3.10/lib/python3.10/site-packages (from jsonschema>=3.0->altair<6,>=4.0->streamlit>=1.27.0->trulens_eval==0.18.3) (2023.11.2)\n",
            "Requirement already satisfied: referencing>=0.28.4 in /home/michaelromagne/.cache/pypoetry/virtualenvs/day12-trulens-b1AmT3gU-py3.10/lib/python3.10/site-packages (from jsonschema>=3.0->altair<6,>=4.0->streamlit>=1.27.0->trulens_eval==0.18.3) (0.32.0)\n",
            "Requirement already satisfied: rpds-py>=0.7.1 in /home/michaelromagne/.cache/pypoetry/virtualenvs/day12-trulens-b1AmT3gU-py3.10/lib/python3.10/site-packages (from jsonschema>=3.0->altair<6,>=4.0->streamlit>=1.27.0->trulens_eval==0.18.3) (0.13.2)\n",
            "Requirement already satisfied: mdurl~=0.1 in /home/michaelromagne/.cache/pypoetry/virtualenvs/day12-trulens-b1AmT3gU-py3.10/lib/python3.10/site-packages (from markdown-it-py>=2.2.0->rich<14,>=10.14.0->streamlit>=1.27.0->trulens_eval==0.18.3) (0.1.2)\n",
            "Requirement already satisfied: ptyprocess>=0.5 in /home/michaelromagne/.cache/pypoetry/virtualenvs/day12-trulens-b1AmT3gU-py3.10/lib/python3.10/site-packages (from pexpect>4.3->ipython>=6.1.0->ipywidgets>=8.0.6->trulens_eval==0.18.3) (0.7.0)\n",
            "Requirement already satisfied: wcwidth in /home/michaelromagne/.cache/pypoetry/virtualenvs/day12-trulens-b1AmT3gU-py3.10/lib/python3.10/site-packages (from prompt-toolkit<3.1.0,>=3.0.41->ipython>=6.1.0->ipywidgets>=8.0.6->trulens_eval==0.18.3) (0.2.12)\n",
            "Collecting pyasn1<0.6.0,>=0.4.6 (from pyasn1-modules>=0.2.1->google-auth>=1.0.1->kubernetes>=28.1.0->chromadb==0.4.18)\n",
            "  Using cached pyasn1-0.5.1-py2.py3-none-any.whl.metadata (8.6 kB)\n",
            "Requirement already satisfied: contourpy>=1.0.1 in /home/michaelromagne/.cache/pypoetry/virtualenvs/day12-trulens-b1AmT3gU-py3.10/lib/python3.10/site-packages (from matplotlib->streamlit-faker>=0.0.2->streamlit-extras>=0.2.7->trulens_eval==0.18.3) (1.2.0)\n",
            "Requirement already satisfied: cycler>=0.10 in /home/michaelromagne/.cache/pypoetry/virtualenvs/day12-trulens-b1AmT3gU-py3.10/lib/python3.10/site-packages (from matplotlib->streamlit-faker>=0.0.2->streamlit-extras>=0.2.7->trulens_eval==0.18.3) (0.12.1)\n",
            "Requirement already satisfied: fonttools>=4.22.0 in /home/michaelromagne/.cache/pypoetry/virtualenvs/day12-trulens-b1AmT3gU-py3.10/lib/python3.10/site-packages (from matplotlib->streamlit-faker>=0.0.2->streamlit-extras>=0.2.7->trulens_eval==0.18.3) (4.46.0)\n",
            "Requirement already satisfied: kiwisolver>=1.3.1 in /home/michaelromagne/.cache/pypoetry/virtualenvs/day12-trulens-b1AmT3gU-py3.10/lib/python3.10/site-packages (from matplotlib->streamlit-faker>=0.0.2->streamlit-extras>=0.2.7->trulens_eval==0.18.3) (1.4.5)\n",
            "Requirement already satisfied: pyparsing>=2.3.1 in /home/michaelromagne/.cache/pypoetry/virtualenvs/day12-trulens-b1AmT3gU-py3.10/lib/python3.10/site-packages (from matplotlib->streamlit-faker>=0.0.2->streamlit-extras>=0.2.7->trulens_eval==0.18.3) (3.1.1)\n",
            "Requirement already satisfied: executing>=1.2.0 in /home/michaelromagne/.cache/pypoetry/virtualenvs/day12-trulens-b1AmT3gU-py3.10/lib/python3.10/site-packages (from stack-data->ipython>=6.1.0->ipywidgets>=8.0.6->trulens_eval==0.18.3) (2.0.1)\n",
            "Requirement already satisfied: asttokens>=2.1.0 in /home/michaelromagne/.cache/pypoetry/virtualenvs/day12-trulens-b1AmT3gU-py3.10/lib/python3.10/site-packages (from stack-data->ipython>=6.1.0->ipywidgets>=8.0.6->trulens_eval==0.18.3) (2.4.1)\n",
            "Requirement already satisfied: pure-eval in /home/michaelromagne/.cache/pypoetry/virtualenvs/day12-trulens-b1AmT3gU-py3.10/lib/python3.10/site-packages (from stack-data->ipython>=6.1.0->ipywidgets>=8.0.6->trulens_eval==0.18.3) (0.2.2)\n",
            "Downloading chromadb-0.4.18-py3-none-any.whl (502 kB)\n",
            "\u001b[2K   \u001b[38;2;114;156;31m━━━━━━━━━━━━━━━━━━━━━━━━━━━━━━━━━━━━━━━━\u001b[0m \u001b[32m502.4/502.4 kB\u001b[0m \u001b[31m19.0 MB/s\u001b[0m eta \u001b[36m0:00:00\u001b[0m\n",
            "\u001b[?25hUsing cached openai-1.3.7-py3-none-any.whl (221 kB)\n",
            "Downloading chroma_hnswlib-0.7.3-cp310-cp310-manylinux_2_17_x86_64.manylinux2014_x86_64.whl (2.4 MB)\n",
            "\u001b[2K   \u001b[38;2;114;156;31m━━━━━━━━━━━━━━━━━━━━━━━━━━━━━━━━━━━━━━━━\u001b[0m \u001b[32m2.4/2.4 MB\u001b[0m \u001b[31m26.7 MB/s\u001b[0m eta \u001b[36m0:00:00\u001b[0m MB/s\u001b[0m eta \u001b[36m0:00:01\u001b[0m:01\u001b[0m\n",
            "\u001b[?25hUsing cached anyio-3.7.1-py3-none-any.whl (80 kB)\n",
            "Using cached bcrypt-4.1.1-cp37-abi3-manylinux_2_28_x86_64.whl (699 kB)\n",
            "Downloading fastapi-0.105.0-py3-none-any.whl (93 kB)\n",
            "\u001b[2K   \u001b[38;2;114;156;31m━━━━━━━━━━━━━━━━━━━━━━━━━━━━━━━━━━━━━━━━\u001b[0m \u001b[32m93.1/93.1 kB\u001b[0m \u001b[31m17.0 MB/s\u001b[0m eta \u001b[36m0:00:00\u001b[0m\n",
            "\u001b[?25hDownloading grpcio-1.60.0-cp310-cp310-manylinux_2_17_x86_64.manylinux2014_x86_64.whl (5.4 MB)\n",
            "\u001b[2K   \u001b[38;2;114;156;31m━━━━━━━━━━━━━━━━━━━━━━━━━━━━━━━━━━━━━━━━\u001b[0m \u001b[32m5.4/5.4 MB\u001b[0m \u001b[31m26.9 MB/s\u001b[0m eta \u001b[36m0:00:00\u001b[0mm eta \u001b[36m0:00:01\u001b[0m0:01\u001b[0m:01\u001b[0m\n",
            "\u001b[?25hUsing cached kubernetes-28.1.0-py2.py3-none-any.whl (1.6 MB)\n",
            "Downloading mmh3-4.0.1-cp310-cp310-manylinux_2_5_x86_64.manylinux1_x86_64.manylinux_2_17_x86_64.manylinux2014_x86_64.whl (72 kB)\n",
            "\u001b[2K   \u001b[38;2;114;156;31m━━━━━━━━━━━━━━━━━━━━━━━━━━━━━━━━━━━━━━━━\u001b[0m \u001b[32m72.6/72.6 kB\u001b[0m \u001b[31m12.2 MB/s\u001b[0m eta \u001b[36m0:00:00\u001b[0m\n",
            "\u001b[?25hDownloading onnxruntime-1.16.3-cp310-cp310-manylinux_2_17_x86_64.manylinux2014_x86_64.whl (6.4 MB)\n",
            "\u001b[2K   \u001b[38;2;114;156;31m━━━━━━━━━━━━━━━━━━━━━━━━━━━━━━━━━━━━━━━━\u001b[0m \u001b[32m6.4/6.4 MB\u001b[0m \u001b[31m26.5 MB/s\u001b[0m eta \u001b[36m0:00:00\u001b[0m31m29.8 MB/s\u001b[0m eta \u001b[36m0:00:01\u001b[0m\n",
            "\u001b[?25hDownloading opentelemetry_api-1.21.0-py3-none-any.whl (57 kB)\n",
            "\u001b[2K   \u001b[38;2;114;156;31m━━━━━━━━━━━━━━━━━━━━━━━━━━━━━━━━━━━━━━━━\u001b[0m \u001b[32m57.9/57.9 kB\u001b[0m \u001b[31m10.3 MB/s\u001b[0m eta \u001b[36m0:00:00\u001b[0m\n",
            "\u001b[?25hDownloading opentelemetry_exporter_otlp_proto_grpc-1.21.0-py3-none-any.whl (18 kB)\n",
            "Downloading opentelemetry_exporter_otlp_proto_common-1.21.0-py3-none-any.whl (17 kB)\n",
            "Downloading opentelemetry_proto-1.21.0-py3-none-any.whl (50 kB)\n",
            "\u001b[2K   \u001b[38;2;114;156;31m━━━━━━━━━━━━━━━━━━━━━━━━━━━━━━━━━━━━━━━━\u001b[0m \u001b[32m50.8/50.8 kB\u001b[0m \u001b[31m10.7 MB/s\u001b[0m eta \u001b[36m0:00:00\u001b[0m\n",
            "\u001b[?25hDownloading opentelemetry_instrumentation_fastapi-0.42b0-py3-none-any.whl (11 kB)\n",
            "Downloading opentelemetry_instrumentation-0.42b0-py3-none-any.whl (25 kB)\n",
            "Downloading opentelemetry_instrumentation_asgi-0.42b0-py3-none-any.whl (13 kB)\n",
            "Downloading opentelemetry_semantic_conventions-0.42b0-py3-none-any.whl (36 kB)\n",
            "Downloading opentelemetry_util_http-0.42b0-py3-none-any.whl (6.9 kB)\n",
            "Downloading opentelemetry_sdk-1.21.0-py3-none-any.whl (105 kB)\n",
            "\u001b[2K   \u001b[38;2;114;156;31m━━━━━━━━━━━━━━━━━━━━━━━━━━━━━━━━━━━━━━━━\u001b[0m \u001b[32m105.3/105.3 kB\u001b[0m \u001b[31m19.4 MB/s\u001b[0m eta \u001b[36m0:00:00\u001b[0m\n",
            "\u001b[?25hDownloading overrides-7.4.0-py3-none-any.whl (17 kB)\n",
            "Downloading posthog-3.1.0-py2.py3-none-any.whl (37 kB)\n",
            "Downloading pulsar_client-3.3.0-cp310-cp310-manylinux_2_17_x86_64.manylinux2014_x86_64.whl (5.4 MB)\n",
            "\u001b[2K   \u001b[38;2;114;156;31m━━━━━━━━━━━━━━━━━━━━━━━━━━━━━━━━━━━━━━━━\u001b[0m \u001b[32m5.4/5.4 MB\u001b[0m \u001b[31m24.8 MB/s\u001b[0m eta \u001b[36m0:00:00\u001b[0mm eta \u001b[36m0:00:01\u001b[0m[36m0:00:01\u001b[0m\n",
            "\u001b[?25hUsing cached uvicorn-0.24.0.post1-py3-none-any.whl (59 kB)\n",
            "Downloading importlib_resources-6.1.1-py3-none-any.whl (33 kB)\n",
            "Using cached google_auth-2.25.2-py2.py3-none-any.whl (184 kB)\n",
            "Using cached googleapis_common_protos-1.62.0-py2.py3-none-any.whl (228 kB)\n",
            "Downloading httptools-0.6.1-cp310-cp310-manylinux_2_5_x86_64.manylinux1_x86_64.manylinux_2_17_x86_64.manylinux2014_x86_64.whl (341 kB)\n",
            "\u001b[2K   \u001b[38;2;114;156;31m━━━━━━━━━━━━━━━━━━━━━━━━━━━━━━━━━━━━━━━━\u001b[0m \u001b[32m341.4/341.4 kB\u001b[0m \u001b[31m40.9 MB/s\u001b[0m eta \u001b[36m0:00:00\u001b[0m\n",
            "\u001b[?25hDownloading starlette-0.27.0-py3-none-any.whl (66 kB)\n",
            "\u001b[2K   \u001b[38;2;114;156;31m━━━━━━━━━━━━━━━━━━━━━━━━━━━━━━━━━━━━━━━━\u001b[0m \u001b[32m67.0/67.0 kB\u001b[0m \u001b[31m10.9 MB/s\u001b[0m eta \u001b[36m0:00:00\u001b[0m\n",
            "\u001b[?25hUsing cached urllib3-1.26.18-py2.py3-none-any.whl (143 kB)\n",
            "Downloading uvloop-0.19.0-cp310-cp310-manylinux_2_17_x86_64.manylinux2014_x86_64.whl (3.4 MB)\n",
            "\u001b[2K   \u001b[38;2;114;156;31m━━━━━━━━━━━━━━━━━━━━━━━━━━━━━━━━━━━━━━━━\u001b[0m \u001b[32m3.4/3.4 MB\u001b[0m \u001b[31m26.4 MB/s\u001b[0m eta \u001b[36m0:00:00\u001b[0m MB/s\u001b[0m eta \u001b[36m0:00:01\u001b[0m:01\u001b[0m\n",
            "\u001b[?25hUsing cached watchfiles-0.21.0-cp310-cp310-manylinux_2_17_x86_64.manylinux2014_x86_64.whl (1.3 MB)\n",
            "Using cached websocket_client-1.7.0-py3-none-any.whl (58 kB)\n",
            "Downloading websockets-12.0-cp310-cp310-manylinux_2_5_x86_64.manylinux1_x86_64.manylinux_2_17_x86_64.manylinux2014_x86_64.whl (130 kB)\n",
            "\u001b[2K   \u001b[38;2;114;156;31m━━━━━━━━━━━━━━━━━━━━━━━━━━━━━━━━━━━━━━━━\u001b[0m \u001b[32m130.2/130.2 kB\u001b[0m \u001b[31m26.9 MB/s\u001b[0m eta \u001b[36m0:00:00\u001b[0m\n",
            "\u001b[?25hDownloading flatbuffers-23.5.26-py2.py3-none-any.whl (26 kB)\n",
            "Using cached asgiref-3.7.2-py3-none-any.whl (24 kB)\n",
            "Using cached pyasn1-0.5.1-py2.py3-none-any.whl (84 kB)\n",
            "Building wheels for collected packages: pypika\n",
            "  Building wheel for pypika (pyproject.toml) ... \u001b[?25ldone\n",
            "\u001b[?25h  Created wheel for pypika: filename=PyPika-0.48.9-py2.py3-none-any.whl size=53723 sha256=45e7423f903577aab676adf64b3569b0c6ab7604f6aa4ec762f55810a3a3bf05\n",
            "  Stored in directory: /home/michaelromagne/.cache/pip/wheels/e1/26/51/d0bffb3d2fd82256676d7ad3003faea3bd6dddc9577af665f4\n",
            "Successfully built pypika\n",
            "Installing collected packages: pypika, mpmath, monotonic, mmh3, flatbuffers, websockets, websocket-client, uvloop, uvicorn, urllib3, typer, sympy, pyasn1, pulsar-client, overrides, opentelemetry-util-http, opentelemetry-semantic-conventions, opentelemetry-proto, oauthlib, importlib-resources, humanfriendly, httptools, grpcio, googleapis-common-protos, chroma-hnswlib, bcrypt, asgiref, anyio, watchfiles, starlette, rsa, pyasn1-modules, opentelemetry-exporter-otlp-proto-common, opentelemetry-api, coloredlogs, requests-oauthlib, posthog, opentelemetry-sdk, opentelemetry-instrumentation, openai, onnxruntime, google-auth, fastapi, opentelemetry-instrumentation-asgi, opentelemetry-exporter-otlp-proto-grpc, kubernetes, opentelemetry-instrumentation-fastapi, chromadb\n",
            "  Attempting uninstall: urllib3\n",
            "    Found existing installation: urllib3 2.1.0\n",
            "    Uninstalling urllib3-2.1.0:\n",
            "      Successfully uninstalled urllib3-2.1.0\n",
            "  Attempting uninstall: anyio\n",
            "    Found existing installation: anyio 4.1.0\n",
            "    Uninstalling anyio-4.1.0:\n",
            "      Successfully uninstalled anyio-4.1.0\n",
            "  Attempting uninstall: openai\n",
            "    Found existing installation: openai 1.3.9\n",
            "    Uninstalling openai-1.3.9:\n",
            "      Successfully uninstalled openai-1.3.9\n",
            "Successfully installed anyio-3.7.1 asgiref-3.7.2 bcrypt-4.1.1 chroma-hnswlib-0.7.3 chromadb-0.4.18 coloredlogs-15.0.1 fastapi-0.105.0 flatbuffers-23.5.26 google-auth-2.25.2 googleapis-common-protos-1.62.0 grpcio-1.60.0 httptools-0.6.1 humanfriendly-10.0 importlib-resources-6.1.1 kubernetes-28.1.0 mmh3-4.0.1 monotonic-1.6 mpmath-1.3.0 oauthlib-3.2.2 onnxruntime-1.16.3 openai-1.3.7 opentelemetry-api-1.21.0 opentelemetry-exporter-otlp-proto-common-1.21.0 opentelemetry-exporter-otlp-proto-grpc-1.21.0 opentelemetry-instrumentation-0.42b0 opentelemetry-instrumentation-asgi-0.42b0 opentelemetry-instrumentation-fastapi-0.42b0 opentelemetry-proto-1.21.0 opentelemetry-sdk-1.21.0 opentelemetry-semantic-conventions-0.42b0 opentelemetry-util-http-0.42b0 overrides-7.4.0 posthog-3.1.0 pulsar-client-3.3.0 pyasn1-0.5.1 pyasn1-modules-0.3.0 pypika-0.48.9 requests-oauthlib-1.3.1 rsa-4.9 starlette-0.27.0 sympy-1.12 typer-0.9.0 urllib3-1.26.18 uvicorn-0.24.0.post1 uvloop-0.19.0 watchfiles-0.21.0 websocket-client-1.7.0 websockets-12.0\n"
          ]
        }
      ],
      "source": [
        "! pip install trulens_eval==0.18.3 chromadb==0.4.18 openai==1.3.7"
      ]
    },
    {
      "cell_type": "code",
      "execution_count": 3,
      "metadata": {
        "id": "7vWH_iL2dOq8"
      },
      "outputs": [],
      "source": [
        "import os\n",
        "os.environ[\"OPENAI_API_KEY\"] = \"sk-...\""
      ]
    },
    {
      "cell_type": "markdown",
      "metadata": {
        "id": "7GZdyhBldOq8"
      },
      "source": [
        "## Get Data\n",
        "\n",
        "In this case, we'll just initialize some simple text in the notebook."
      ]
    },
    {
      "cell_type": "code",
      "execution_count": null,
      "metadata": {
        "id": "TvrnFgggdOq9"
      },
      "outputs": [],
      "source": [
        "university_info = \"\"\"\n",
        "The University of Washington, founded in 1861 in Seattle, is a public research university\n",
        "with over 45,000 students across three campuses in Seattle, Tacoma, and Bothell.\n",
        "As the flagship institution of the six public universities in Washington state,\n",
        "UW encompasses over 500 buildings and 20 million square feet of space,\n",
        "including one of the largest library systems in the world.\n",
        "\"\"\""
      ]
    },
    {
      "cell_type": "markdown",
      "metadata": {
        "id": "PHA9EE0LdOq9"
      },
      "source": [
        "## Create Vector Store\n",
        "\n",
        "Create a chromadb vector store in memory."
      ]
    },
    {
      "cell_type": "code",
      "execution_count": null,
      "metadata": {
        "id": "kLtryFFhdOq9"
      },
      "outputs": [],
      "source": [
        "from openai import OpenAI\n",
        "oai_client = OpenAI()\n",
        "\n",
        "oai_client.embeddings.create(\n",
        "        model=\"text-embedding-ada-002\",\n",
        "        input=university_info\n",
        "    )"
      ]
    },
    {
      "cell_type": "code",
      "execution_count": null,
      "metadata": {
        "id": "K790-bjJdOq-"
      },
      "outputs": [],
      "source": [
        "import chromadb\n",
        "from chromadb.utils.embedding_functions import OpenAIEmbeddingFunction\n",
        "\n",
        "embedding_function = OpenAIEmbeddingFunction(api_key=os.environ.get('OPENAI_API_KEY'),\n",
        "                                             model_name=\"text-embedding-ada-002\")\n",
        "\n",
        "\n",
        "chroma_client = chromadb.Client()\n",
        "vector_store = chroma_client.get_or_create_collection(name=\"Universities\",\n",
        "                                                      embedding_function=embedding_function)"
      ]
    },
    {
      "cell_type": "markdown",
      "metadata": {
        "collapsed": false,
        "id": "8dyovksndOq-"
      },
      "source": [
        "Add the university_info to the embedding database."
      ]
    },
    {
      "cell_type": "code",
      "execution_count": null,
      "metadata": {
        "id": "6Y6F-OH8dOq_"
      },
      "outputs": [],
      "source": [
        "vector_store.add(\"uni_info\", documents=university_info)"
      ]
    },
    {
      "cell_type": "markdown",
      "metadata": {
        "id": "P3IGvPn1dOq_"
      },
      "source": [
        "## Build RAG from scratch\n",
        "\n",
        "Build a custom RAG from scratch, and add TruLens custom instrumentation."
      ]
    },
    {
      "cell_type": "code",
      "execution_count": null,
      "metadata": {
        "id": "mVhn2VJLdOq_"
      },
      "outputs": [],
      "source": [
        "from trulens_eval import Tru\n",
        "from trulens_eval.tru_custom_app import instrument\n",
        "tru = Tru()"
      ]
    },
    {
      "cell_type": "code",
      "execution_count": null,
      "metadata": {
        "id": "05OcFyqydOrA"
      },
      "outputs": [],
      "source": [
        "class RAG_from_scratch:\n",
        "    @instrument\n",
        "    def retrieve(self, query: str) -> list:\n",
        "        \"\"\"\n",
        "        Retrieve relevant text from vector store.\n",
        "        \"\"\"\n",
        "        results = vector_store.query(\n",
        "        query_texts=query,\n",
        "        n_results=2\n",
        "    )\n",
        "        return results['documents'][0]\n",
        "\n",
        "    @instrument\n",
        "    def generate_completion(self, query: str, context_str: list) -> str:\n",
        "        \"\"\"\n",
        "        Generate answer from context.\n",
        "        \"\"\"\n",
        "        completion = oai_client.chat.completions.create(\n",
        "        model=\"gpt-3.5-turbo\",\n",
        "        temperature=0,\n",
        "        messages=\n",
        "        [\n",
        "            {\"role\": \"user\",\n",
        "            \"content\":\n",
        "            f\"We have provided context information below. \\n\"\n",
        "            f\"---------------------\\n\"\n",
        "            f\"{context_str}\"\n",
        "            f\"\\n---------------------\\n\"\n",
        "            f\"Given this information, please answer the question: {query}\"\n",
        "            }\n",
        "        ]\n",
        "        ).choices[0].message.content\n",
        "        return completion\n",
        "\n",
        "    @instrument\n",
        "    def query(self, query: str) -> str:\n",
        "        context_str = self.retrieve(query)\n",
        "        completion = self.generate_completion(query, context_str)\n",
        "        return completion\n",
        "\n",
        "rag = RAG_from_scratch()"
      ]
    },
    {
      "cell_type": "markdown",
      "metadata": {
        "id": "zSee7f2YdOrA"
      },
      "source": [
        "## Set up feedback functions.\n",
        "\n",
        "Here we'll use groundedness, answer relevance and context relevance to detect hallucination."
      ]
    },
    {
      "cell_type": "code",
      "execution_count": null,
      "metadata": {
        "id": "QsSEIGlUdOrA"
      },
      "outputs": [],
      "source": [
        "from trulens_eval import Feedback, Select\n",
        "from trulens_eval.feedback import Groundedness\n",
        "from trulens_eval.feedback.provider.openai import OpenAI as fOpenAI\n",
        "\n",
        "import numpy as np\n",
        "\n",
        "# Initialize provider class\n",
        "fopenai = fOpenAI()\n",
        "\n",
        "grounded = Groundedness(groundedness_provider=fopenai)\n",
        "\n",
        "# Define a groundedness feedback function\n",
        "f_groundedness = (\n",
        "    Feedback(grounded.groundedness_measure_with_cot_reasons, name = \"Groundedness\")\n",
        "    .on(Select.RecordCalls.retrieve.rets.collect())\n",
        "    .on_output()\n",
        "    .aggregate(grounded.grounded_statements_aggregator)\n",
        ")\n",
        "\n",
        "# Question/answer relevance between overall question and answer.\n",
        "f_qa_relevance = (\n",
        "    Feedback(fopenai.relevance_with_cot_reasons, name = \"Answer Relevance\")\n",
        "    .on(Select.RecordCalls.retrieve.args.query)\n",
        "    .on_output()\n",
        ")\n",
        "\n",
        "# Question/statement relevance between question and each context chunk.\n",
        "f_context_relevance = (\n",
        "    Feedback(fopenai.qs_relevance_with_cot_reasons, name = \"Context Relevance\")\n",
        "    .on(Select.RecordCalls.retrieve.args.query)\n",
        "    .on(Select.RecordCalls.retrieve.rets.collect())\n",
        "    .aggregate(np.mean)\n",
        ")"
      ]
    },
    {
      "cell_type": "markdown",
      "metadata": {
        "id": "F-_gSccVdOrB"
      },
      "source": [
        "## Construct the app\n",
        "Wrap the custom RAG with TruCustomApp, add list of feedbacks for eval"
      ]
    },
    {
      "cell_type": "code",
      "execution_count": null,
      "metadata": {
        "id": "WaoKut8kdOrB"
      },
      "outputs": [],
      "source": [
        "from trulens_eval import TruCustomApp\n",
        "tru_rag = TruCustomApp(rag,\n",
        "    app_id = 'RAG v1',\n",
        "    feedbacks = [f_groundedness, f_qa_relevance, f_context_relevance])"
      ]
    },
    {
      "cell_type": "markdown",
      "metadata": {
        "id": "E6gnjnUpdOrB"
      },
      "source": [
        "## Run the app\n",
        "Use `tru_rag` as a context manager for the custom RAG-from-scratch app."
      ]
    },
    {
      "cell_type": "code",
      "execution_count": null,
      "metadata": {
        "id": "VX3OkFuWdOrB"
      },
      "outputs": [],
      "source": [
        "with tru_rag as recording:\n",
        "    rag.query(\"When was the University of Washington founded?\")"
      ]
    },
    {
      "cell_type": "code",
      "execution_count": null,
      "metadata": {
        "id": "NR7CTdFydOrB"
      },
      "outputs": [],
      "source": [
        "tru.get_leaderboard(app_ids=[\"RAG v1\"])"
      ]
    },
    {
      "cell_type": "code",
      "execution_count": null,
      "metadata": {
        "id": "4EN67ljXdOrB"
      },
      "outputs": [],
      "source": [
        "tru.run_dashboard()"
      ]
    }
  ],
  "metadata": {
    "colab": {
      "provenance": []
    },
    "kernelspec": {
      "display_name": "trulens18_release",
      "language": "python",
      "name": "python3"
    },
    "language_info": {
      "codemirror_mode": {
        "name": "ipython",
        "version": 3
      },
      "file_extension": ".py",
      "mimetype": "text/x-python",
      "name": "python",
      "nbconvert_exporter": "python",
      "pygments_lexer": "ipython3",
      "version": "3.10.13"
    }
  },
  "nbformat": 4,
  "nbformat_minor": 0
}
