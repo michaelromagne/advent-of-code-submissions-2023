{
  "cells": [
    {
      "cell_type": "markdown",
      "metadata": {
        "id": "Uw7e7yFdeEST"
      },
      "source": [
        "# Langchain Quickstart\n",
        "\n",
        "In this quickstart you will create a simple LLM Chain and learn how to log it and get feedback on an LLM response.\n",
        "\n",
        "[![Open In Colab](https://colab.research.google.com/assets/colab-badge.svg)](https://colab.research.google.com/github/truera/trulens/blob/main/trulens_eval/examples/quickstart/langchain_quickstart.ipynb)"
      ]
    },
    {
      "cell_type": "markdown",
      "metadata": {
        "id": "djPrBuloeESU"
      },
      "source": [
        "## Setup\n",
        "### Add API keys\n",
        "For this quickstart you will need Open AI and Huggingface keys"
      ]
    },
    {
      "cell_type": "code",
      "execution_count": 1,
      "metadata": {
        "id": "gHxb775QeESU"
      },
      "outputs": [
        {
          "name": "stdout",
          "output_type": "stream",
          "text": [
            "Looking in indexes: https://gitlab.gitguardian.ovh/api/v4/projects/435/packages/pypi/simple\n",
            "Requirement already satisfied: trulens_eval==0.18.3 in /home/michaelromagne/.cache/pypoetry/virtualenvs/day12-trulens-b1AmT3gU-py3.10/lib/python3.10/site-packages (0.18.3)\n",
            "Requirement already satisfied: openai==1.3.7 in /home/michaelromagne/.cache/pypoetry/virtualenvs/day12-trulens-b1AmT3gU-py3.10/lib/python3.10/site-packages (1.3.7)\n",
            "Requirement already satisfied: cohere>=4.4.1 in /home/michaelromagne/.cache/pypoetry/virtualenvs/day12-trulens-b1AmT3gU-py3.10/lib/python3.10/site-packages (from trulens_eval==0.18.3) (4.37)\n",
            "Requirement already satisfied: datasets>=2.12.0 in /home/michaelromagne/.cache/pypoetry/virtualenvs/day12-trulens-b1AmT3gU-py3.10/lib/python3.10/site-packages (from trulens_eval==0.18.3) (2.15.0)\n",
            "Requirement already satisfied: python-dotenv>=1.0.0 in /home/michaelromagne/.cache/pypoetry/virtualenvs/day12-trulens-b1AmT3gU-py3.10/lib/python3.10/site-packages (from trulens_eval==0.18.3) (1.0.0)\n",
            "Requirement already satisfied: kaggle>=1.5.13 in /home/michaelromagne/.cache/pypoetry/virtualenvs/day12-trulens-b1AmT3gU-py3.10/lib/python3.10/site-packages (from trulens_eval==0.18.3) (1.5.16)\n",
            "Requirement already satisfied: langchain>=0.0.335 in /home/michaelromagne/.cache/pypoetry/virtualenvs/day12-trulens-b1AmT3gU-py3.10/lib/python3.10/site-packages (from trulens_eval==0.18.3) (0.0.350)\n",
            "Requirement already satisfied: typing-inspect>=0.8.0 in /home/michaelromagne/.cache/pypoetry/virtualenvs/day12-trulens-b1AmT3gU-py3.10/lib/python3.10/site-packages (from trulens_eval==0.18.3) (0.9.0)\n",
            "Requirement already satisfied: typing-extensions>=4.5.0 in /home/michaelromagne/.cache/pypoetry/virtualenvs/day12-trulens-b1AmT3gU-py3.10/lib/python3.10/site-packages (from trulens_eval==0.18.3) (4.9.0)\n",
            "Requirement already satisfied: llama-index>=0.8.69 in /home/michaelromagne/.cache/pypoetry/virtualenvs/day12-trulens-b1AmT3gU-py3.10/lib/python3.10/site-packages (from trulens_eval==0.18.3) (0.9.14.post3)\n",
            "Requirement already satisfied: html2text>=2020.1.16 in /home/michaelromagne/.cache/pypoetry/virtualenvs/day12-trulens-b1AmT3gU-py3.10/lib/python3.10/site-packages (from trulens_eval==0.18.3) (2020.1.16)\n",
            "Requirement already satisfied: merkle-json>=1.0.0 in /home/michaelromagne/.cache/pypoetry/virtualenvs/day12-trulens-b1AmT3gU-py3.10/lib/python3.10/site-packages (from trulens_eval==0.18.3) (1.0.0)\n",
            "Requirement already satisfied: millify>=0.1.1 in /home/michaelromagne/.cache/pypoetry/virtualenvs/day12-trulens-b1AmT3gU-py3.10/lib/python3.10/site-packages (from trulens_eval==0.18.3) (0.1.1)\n",
            "Requirement already satisfied: httpx>=0.23.3 in /home/michaelromagne/.cache/pypoetry/virtualenvs/day12-trulens-b1AmT3gU-py3.10/lib/python3.10/site-packages (from trulens_eval==0.18.3) (0.25.2)\n",
            "Requirement already satisfied: pinecone-client>=2.2.1 in /home/michaelromagne/.cache/pypoetry/virtualenvs/day12-trulens-b1AmT3gU-py3.10/lib/python3.10/site-packages (from trulens_eval==0.18.3) (2.2.4)\n",
            "Requirement already satisfied: pydantic<2,>=1.10.7 in /home/michaelromagne/.cache/pypoetry/virtualenvs/day12-trulens-b1AmT3gU-py3.10/lib/python3.10/site-packages (from trulens_eval==0.18.3) (1.10.13)\n",
            "Requirement already satisfied: humanize>=4.6.0 in /home/michaelromagne/.cache/pypoetry/virtualenvs/day12-trulens-b1AmT3gU-py3.10/lib/python3.10/site-packages (from trulens_eval==0.18.3) (4.9.0)\n",
            "Requirement already satisfied: slack-bolt>=1.18.0 in /home/michaelromagne/.cache/pypoetry/virtualenvs/day12-trulens-b1AmT3gU-py3.10/lib/python3.10/site-packages (from trulens_eval==0.18.3) (1.18.1)\n",
            "Requirement already satisfied: slack-sdk>=3.21.3 in /home/michaelromagne/.cache/pypoetry/virtualenvs/day12-trulens-b1AmT3gU-py3.10/lib/python3.10/site-packages (from trulens_eval==0.18.3) (3.26.1)\n",
            "Requirement already satisfied: streamlit>=1.27.0 in /home/michaelromagne/.cache/pypoetry/virtualenvs/day12-trulens-b1AmT3gU-py3.10/lib/python3.10/site-packages (from trulens_eval==0.18.3) (1.29.0)\n",
            "Requirement already satisfied: streamlit-aggrid>=0.3.4.post3 in /home/michaelromagne/.cache/pypoetry/virtualenvs/day12-trulens-b1AmT3gU-py3.10/lib/python3.10/site-packages (from trulens_eval==0.18.3) (0.3.4.post3)\n",
            "Requirement already satisfied: streamlit-extras>=0.2.7 in /home/michaelromagne/.cache/pypoetry/virtualenvs/day12-trulens-b1AmT3gU-py3.10/lib/python3.10/site-packages (from trulens_eval==0.18.3) (0.3.6)\n",
            "Requirement already satisfied: streamlit-javascript>=0.1.5 in /home/michaelromagne/.cache/pypoetry/virtualenvs/day12-trulens-b1AmT3gU-py3.10/lib/python3.10/site-packages (from trulens_eval==0.18.3) (0.1.5)\n",
            "Requirement already satisfied: transformers>=4.10.0 in /home/michaelromagne/.cache/pypoetry/virtualenvs/day12-trulens-b1AmT3gU-py3.10/lib/python3.10/site-packages (from trulens_eval==0.18.3) (4.36.0)\n",
            "Requirement already satisfied: frozendict>=2.3.8 in /home/michaelromagne/.cache/pypoetry/virtualenvs/day12-trulens-b1AmT3gU-py3.10/lib/python3.10/site-packages (from trulens_eval==0.18.3) (2.3.10)\n",
            "Requirement already satisfied: munch>=3.0.0 in /home/michaelromagne/.cache/pypoetry/virtualenvs/day12-trulens-b1AmT3gU-py3.10/lib/python3.10/site-packages (from trulens_eval==0.18.3) (4.0.0)\n",
            "Requirement already satisfied: ipywidgets>=8.0.6 in /home/michaelromagne/.cache/pypoetry/virtualenvs/day12-trulens-b1AmT3gU-py3.10/lib/python3.10/site-packages (from trulens_eval==0.18.3) (8.1.1)\n",
            "Requirement already satisfied: numpy>=1.23.5 in /home/michaelromagne/.cache/pypoetry/virtualenvs/day12-trulens-b1AmT3gU-py3.10/lib/python3.10/site-packages (from trulens_eval==0.18.3) (1.26.2)\n",
            "Requirement already satisfied: sqlalchemy>=2.0.19 in /home/michaelromagne/.cache/pypoetry/virtualenvs/day12-trulens-b1AmT3gU-py3.10/lib/python3.10/site-packages (from trulens_eval==0.18.3) (2.0.23)\n",
            "Requirement already satisfied: alembic>=1.11.2 in /home/michaelromagne/.cache/pypoetry/virtualenvs/day12-trulens-b1AmT3gU-py3.10/lib/python3.10/site-packages (from trulens_eval==0.18.3) (1.13.0)\n",
            "Requirement already satisfied: anyio<4,>=3.5.0 in /home/michaelromagne/.cache/pypoetry/virtualenvs/day12-trulens-b1AmT3gU-py3.10/lib/python3.10/site-packages (from openai==1.3.7) (3.7.1)\n",
            "Requirement already satisfied: distro<2,>=1.7.0 in /home/michaelromagne/.cache/pypoetry/virtualenvs/day12-trulens-b1AmT3gU-py3.10/lib/python3.10/site-packages (from openai==1.3.7) (1.8.0)\n",
            "Requirement already satisfied: sniffio in /home/michaelromagne/.cache/pypoetry/virtualenvs/day12-trulens-b1AmT3gU-py3.10/lib/python3.10/site-packages (from openai==1.3.7) (1.3.0)\n",
            "Requirement already satisfied: tqdm>4 in /home/michaelromagne/.cache/pypoetry/virtualenvs/day12-trulens-b1AmT3gU-py3.10/lib/python3.10/site-packages (from openai==1.3.7) (4.66.1)\n",
            "Requirement already satisfied: Mako in /home/michaelromagne/.cache/pypoetry/virtualenvs/day12-trulens-b1AmT3gU-py3.10/lib/python3.10/site-packages (from alembic>=1.11.2->trulens_eval==0.18.3) (1.3.0)\n",
            "Requirement already satisfied: idna>=2.8 in /home/michaelromagne/.cache/pypoetry/virtualenvs/day12-trulens-b1AmT3gU-py3.10/lib/python3.10/site-packages (from anyio<4,>=3.5.0->openai==1.3.7) (3.6)\n",
            "Requirement already satisfied: exceptiongroup in /home/michaelromagne/.cache/pypoetry/virtualenvs/day12-trulens-b1AmT3gU-py3.10/lib/python3.10/site-packages (from anyio<4,>=3.5.0->openai==1.3.7) (1.2.0)\n",
            "Requirement already satisfied: aiohttp<4.0,>=3.0 in /home/michaelromagne/.cache/pypoetry/virtualenvs/day12-trulens-b1AmT3gU-py3.10/lib/python3.10/site-packages (from cohere>=4.4.1->trulens_eval==0.18.3) (3.9.1)\n",
            "Requirement already satisfied: backoff<3.0,>=2.0 in /home/michaelromagne/.cache/pypoetry/virtualenvs/day12-trulens-b1AmT3gU-py3.10/lib/python3.10/site-packages (from cohere>=4.4.1->trulens_eval==0.18.3) (2.2.1)\n",
            "Requirement already satisfied: fastavro<2.0,>=1.8 in /home/michaelromagne/.cache/pypoetry/virtualenvs/day12-trulens-b1AmT3gU-py3.10/lib/python3.10/site-packages (from cohere>=4.4.1->trulens_eval==0.18.3) (1.9.1)\n",
            "Requirement already satisfied: importlib_metadata<7.0,>=6.0 in /home/michaelromagne/.cache/pypoetry/virtualenvs/day12-trulens-b1AmT3gU-py3.10/lib/python3.10/site-packages (from cohere>=4.4.1->trulens_eval==0.18.3) (6.11.0)\n",
            "Requirement already satisfied: requests<3.0.0,>=2.25.0 in /home/michaelromagne/.cache/pypoetry/virtualenvs/day12-trulens-b1AmT3gU-py3.10/lib/python3.10/site-packages (from cohere>=4.4.1->trulens_eval==0.18.3) (2.31.0)\n",
            "Requirement already satisfied: urllib3<3,>=1.26 in /home/michaelromagne/.cache/pypoetry/virtualenvs/day12-trulens-b1AmT3gU-py3.10/lib/python3.10/site-packages (from cohere>=4.4.1->trulens_eval==0.18.3) (1.26.18)\n",
            "Requirement already satisfied: pyarrow>=8.0.0 in /home/michaelromagne/.cache/pypoetry/virtualenvs/day12-trulens-b1AmT3gU-py3.10/lib/python3.10/site-packages (from datasets>=2.12.0->trulens_eval==0.18.3) (14.0.1)\n",
            "Requirement already satisfied: pyarrow-hotfix in /home/michaelromagne/.cache/pypoetry/virtualenvs/day12-trulens-b1AmT3gU-py3.10/lib/python3.10/site-packages (from datasets>=2.12.0->trulens_eval==0.18.3) (0.6)\n",
            "Requirement already satisfied: dill<0.3.8,>=0.3.0 in /home/michaelromagne/.cache/pypoetry/virtualenvs/day12-trulens-b1AmT3gU-py3.10/lib/python3.10/site-packages (from datasets>=2.12.0->trulens_eval==0.18.3) (0.3.7)\n",
            "Requirement already satisfied: pandas in /home/michaelromagne/.cache/pypoetry/virtualenvs/day12-trulens-b1AmT3gU-py3.10/lib/python3.10/site-packages (from datasets>=2.12.0->trulens_eval==0.18.3) (2.1.4)\n",
            "Requirement already satisfied: xxhash in /home/michaelromagne/.cache/pypoetry/virtualenvs/day12-trulens-b1AmT3gU-py3.10/lib/python3.10/site-packages (from datasets>=2.12.0->trulens_eval==0.18.3) (3.4.1)\n",
            "Requirement already satisfied: multiprocess in /home/michaelromagne/.cache/pypoetry/virtualenvs/day12-trulens-b1AmT3gU-py3.10/lib/python3.10/site-packages (from datasets>=2.12.0->trulens_eval==0.18.3) (0.70.15)\n",
            "Requirement already satisfied: fsspec<=2023.10.0,>=2023.1.0 in /home/michaelromagne/.cache/pypoetry/virtualenvs/day12-trulens-b1AmT3gU-py3.10/lib/python3.10/site-packages (from fsspec[http]<=2023.10.0,>=2023.1.0->datasets>=2.12.0->trulens_eval==0.18.3) (2023.10.0)\n",
            "Requirement already satisfied: huggingface-hub>=0.18.0 in /home/michaelromagne/.cache/pypoetry/virtualenvs/day12-trulens-b1AmT3gU-py3.10/lib/python3.10/site-packages (from datasets>=2.12.0->trulens_eval==0.18.3) (0.19.4)\n",
            "Requirement already satisfied: packaging in /home/michaelromagne/.cache/pypoetry/virtualenvs/day12-trulens-b1AmT3gU-py3.10/lib/python3.10/site-packages (from datasets>=2.12.0->trulens_eval==0.18.3) (23.2)\n",
            "Requirement already satisfied: pyyaml>=5.1 in /home/michaelromagne/.cache/pypoetry/virtualenvs/day12-trulens-b1AmT3gU-py3.10/lib/python3.10/site-packages (from datasets>=2.12.0->trulens_eval==0.18.3) (6.0.1)\n",
            "Requirement already satisfied: certifi in /home/michaelromagne/.cache/pypoetry/virtualenvs/day12-trulens-b1AmT3gU-py3.10/lib/python3.10/site-packages (from httpx>=0.23.3->trulens_eval==0.18.3) (2023.11.17)\n",
            "Requirement already satisfied: httpcore==1.* in /home/michaelromagne/.cache/pypoetry/virtualenvs/day12-trulens-b1AmT3gU-py3.10/lib/python3.10/site-packages (from httpx>=0.23.3->trulens_eval==0.18.3) (1.0.2)\n",
            "Requirement already satisfied: h11<0.15,>=0.13 in /home/michaelromagne/.cache/pypoetry/virtualenvs/day12-trulens-b1AmT3gU-py3.10/lib/python3.10/site-packages (from httpcore==1.*->httpx>=0.23.3->trulens_eval==0.18.3) (0.14.0)\n",
            "Requirement already satisfied: comm>=0.1.3 in /home/michaelromagne/.cache/pypoetry/virtualenvs/day12-trulens-b1AmT3gU-py3.10/lib/python3.10/site-packages (from ipywidgets>=8.0.6->trulens_eval==0.18.3) (0.2.0)\n",
            "Requirement already satisfied: ipython>=6.1.0 in /home/michaelromagne/.cache/pypoetry/virtualenvs/day12-trulens-b1AmT3gU-py3.10/lib/python3.10/site-packages (from ipywidgets>=8.0.6->trulens_eval==0.18.3) (8.18.1)\n",
            "Requirement already satisfied: traitlets>=4.3.1 in /home/michaelromagne/.cache/pypoetry/virtualenvs/day12-trulens-b1AmT3gU-py3.10/lib/python3.10/site-packages (from ipywidgets>=8.0.6->trulens_eval==0.18.3) (5.14.0)\n",
            "Requirement already satisfied: widgetsnbextension~=4.0.9 in /home/michaelromagne/.cache/pypoetry/virtualenvs/day12-trulens-b1AmT3gU-py3.10/lib/python3.10/site-packages (from ipywidgets>=8.0.6->trulens_eval==0.18.3) (4.0.9)\n",
            "Requirement already satisfied: jupyterlab-widgets~=3.0.9 in /home/michaelromagne/.cache/pypoetry/virtualenvs/day12-trulens-b1AmT3gU-py3.10/lib/python3.10/site-packages (from ipywidgets>=8.0.6->trulens_eval==0.18.3) (3.0.9)\n",
            "Requirement already satisfied: six>=1.10 in /home/michaelromagne/.cache/pypoetry/virtualenvs/day12-trulens-b1AmT3gU-py3.10/lib/python3.10/site-packages (from kaggle>=1.5.13->trulens_eval==0.18.3) (1.16.0)\n",
            "Requirement already satisfied: python-dateutil in /home/michaelromagne/.cache/pypoetry/virtualenvs/day12-trulens-b1AmT3gU-py3.10/lib/python3.10/site-packages (from kaggle>=1.5.13->trulens_eval==0.18.3) (2.8.2)\n",
            "Requirement already satisfied: python-slugify in /home/michaelromagne/.cache/pypoetry/virtualenvs/day12-trulens-b1AmT3gU-py3.10/lib/python3.10/site-packages (from kaggle>=1.5.13->trulens_eval==0.18.3) (8.0.1)\n",
            "Requirement already satisfied: bleach in /home/michaelromagne/.cache/pypoetry/virtualenvs/day12-trulens-b1AmT3gU-py3.10/lib/python3.10/site-packages (from kaggle>=1.5.13->trulens_eval==0.18.3) (6.1.0)\n",
            "Requirement already satisfied: async-timeout<5.0.0,>=4.0.0 in /home/michaelromagne/.cache/pypoetry/virtualenvs/day12-trulens-b1AmT3gU-py3.10/lib/python3.10/site-packages (from langchain>=0.0.335->trulens_eval==0.18.3) (4.0.3)\n",
            "Requirement already satisfied: dataclasses-json<0.7,>=0.5.7 in /home/michaelromagne/.cache/pypoetry/virtualenvs/day12-trulens-b1AmT3gU-py3.10/lib/python3.10/site-packages (from langchain>=0.0.335->trulens_eval==0.18.3) (0.6.3)\n",
            "Requirement already satisfied: jsonpatch<2.0,>=1.33 in /home/michaelromagne/.cache/pypoetry/virtualenvs/day12-trulens-b1AmT3gU-py3.10/lib/python3.10/site-packages (from langchain>=0.0.335->trulens_eval==0.18.3) (1.33)\n",
            "Requirement already satisfied: langchain-community<0.1,>=0.0.2 in /home/michaelromagne/.cache/pypoetry/virtualenvs/day12-trulens-b1AmT3gU-py3.10/lib/python3.10/site-packages (from langchain>=0.0.335->trulens_eval==0.18.3) (0.0.2)\n",
            "Requirement already satisfied: langchain-core<0.2,>=0.1 in /home/michaelromagne/.cache/pypoetry/virtualenvs/day12-trulens-b1AmT3gU-py3.10/lib/python3.10/site-packages (from langchain>=0.0.335->trulens_eval==0.18.3) (0.1.0)\n",
            "Requirement already satisfied: langsmith<0.1.0,>=0.0.63 in /home/michaelromagne/.cache/pypoetry/virtualenvs/day12-trulens-b1AmT3gU-py3.10/lib/python3.10/site-packages (from langchain>=0.0.335->trulens_eval==0.18.3) (0.0.69)\n",
            "Requirement already satisfied: tenacity<9.0.0,>=8.1.0 in /home/michaelromagne/.cache/pypoetry/virtualenvs/day12-trulens-b1AmT3gU-py3.10/lib/python3.10/site-packages (from langchain>=0.0.335->trulens_eval==0.18.3) (8.2.3)\n",
            "Requirement already satisfied: beautifulsoup4<5.0.0,>=4.12.2 in /home/michaelromagne/.cache/pypoetry/virtualenvs/day12-trulens-b1AmT3gU-py3.10/lib/python3.10/site-packages (from llama-index>=0.8.69->trulens_eval==0.18.3) (4.12.2)\n",
            "Requirement already satisfied: deprecated>=1.2.9.3 in /home/michaelromagne/.cache/pypoetry/virtualenvs/day12-trulens-b1AmT3gU-py3.10/lib/python3.10/site-packages (from llama-index>=0.8.69->trulens_eval==0.18.3) (1.2.14)\n",
            "Requirement already satisfied: nest-asyncio<2.0.0,>=1.5.8 in /home/michaelromagne/.cache/pypoetry/virtualenvs/day12-trulens-b1AmT3gU-py3.10/lib/python3.10/site-packages (from llama-index>=0.8.69->trulens_eval==0.18.3) (1.5.8)\n",
            "Requirement already satisfied: nltk<4.0.0,>=3.8.1 in /home/michaelromagne/.cache/pypoetry/virtualenvs/day12-trulens-b1AmT3gU-py3.10/lib/python3.10/site-packages (from llama-index>=0.8.69->trulens_eval==0.18.3) (3.8.1)\n",
            "Requirement already satisfied: tiktoken>=0.3.3 in /home/michaelromagne/.cache/pypoetry/virtualenvs/day12-trulens-b1AmT3gU-py3.10/lib/python3.10/site-packages (from llama-index>=0.8.69->trulens_eval==0.18.3) (0.5.2)\n",
            "Requirement already satisfied: loguru>=0.5.0 in /home/michaelromagne/.cache/pypoetry/virtualenvs/day12-trulens-b1AmT3gU-py3.10/lib/python3.10/site-packages (from pinecone-client>=2.2.1->trulens_eval==0.18.3) (0.7.2)\n",
            "Requirement already satisfied: dnspython>=2.0.0 in /home/michaelromagne/.cache/pypoetry/virtualenvs/day12-trulens-b1AmT3gU-py3.10/lib/python3.10/site-packages (from pinecone-client>=2.2.1->trulens_eval==0.18.3) (2.4.2)\n",
            "Requirement already satisfied: greenlet!=0.4.17 in /home/michaelromagne/.cache/pypoetry/virtualenvs/day12-trulens-b1AmT3gU-py3.10/lib/python3.10/site-packages (from sqlalchemy>=2.0.19->trulens_eval==0.18.3) (3.0.2)\n",
            "Requirement already satisfied: altair<6,>=4.0 in /home/michaelromagne/.cache/pypoetry/virtualenvs/day12-trulens-b1AmT3gU-py3.10/lib/python3.10/site-packages (from streamlit>=1.27.0->trulens_eval==0.18.3) (5.2.0)\n",
            "Requirement already satisfied: blinker<2,>=1.0.0 in /home/michaelromagne/.cache/pypoetry/virtualenvs/day12-trulens-b1AmT3gU-py3.10/lib/python3.10/site-packages (from streamlit>=1.27.0->trulens_eval==0.18.3) (1.7.0)\n",
            "Requirement already satisfied: cachetools<6,>=4.0 in /home/michaelromagne/.cache/pypoetry/virtualenvs/day12-trulens-b1AmT3gU-py3.10/lib/python3.10/site-packages (from streamlit>=1.27.0->trulens_eval==0.18.3) (5.3.2)\n",
            "Requirement already satisfied: click<9,>=7.0 in /home/michaelromagne/.cache/pypoetry/virtualenvs/day12-trulens-b1AmT3gU-py3.10/lib/python3.10/site-packages (from streamlit>=1.27.0->trulens_eval==0.18.3) (8.1.7)\n",
            "Requirement already satisfied: pillow<11,>=7.1.0 in /home/michaelromagne/.cache/pypoetry/virtualenvs/day12-trulens-b1AmT3gU-py3.10/lib/python3.10/site-packages (from streamlit>=1.27.0->trulens_eval==0.18.3) (10.1.0)\n",
            "Requirement already satisfied: protobuf<5,>=3.20 in /home/michaelromagne/.cache/pypoetry/virtualenvs/day12-trulens-b1AmT3gU-py3.10/lib/python3.10/site-packages (from streamlit>=1.27.0->trulens_eval==0.18.3) (4.25.1)\n",
            "Requirement already satisfied: rich<14,>=10.14.0 in /home/michaelromagne/.cache/pypoetry/virtualenvs/day12-trulens-b1AmT3gU-py3.10/lib/python3.10/site-packages (from streamlit>=1.27.0->trulens_eval==0.18.3) (13.7.0)\n",
            "Requirement already satisfied: toml<2,>=0.10.1 in /home/michaelromagne/.cache/pypoetry/virtualenvs/day12-trulens-b1AmT3gU-py3.10/lib/python3.10/site-packages (from streamlit>=1.27.0->trulens_eval==0.18.3) (0.10.2)\n",
            "Requirement already satisfied: tzlocal<6,>=1.1 in /home/michaelromagne/.cache/pypoetry/virtualenvs/day12-trulens-b1AmT3gU-py3.10/lib/python3.10/site-packages (from streamlit>=1.27.0->trulens_eval==0.18.3) (5.2)\n",
            "Requirement already satisfied: validators<1,>=0.2 in /home/michaelromagne/.cache/pypoetry/virtualenvs/day12-trulens-b1AmT3gU-py3.10/lib/python3.10/site-packages (from streamlit>=1.27.0->trulens_eval==0.18.3) (0.22.0)\n",
            "Requirement already satisfied: gitpython!=3.1.19,<4,>=3.0.7 in /home/michaelromagne/.cache/pypoetry/virtualenvs/day12-trulens-b1AmT3gU-py3.10/lib/python3.10/site-packages (from streamlit>=1.27.0->trulens_eval==0.18.3) (3.1.40)\n",
            "Requirement already satisfied: pydeck<1,>=0.8.0b4 in /home/michaelromagne/.cache/pypoetry/virtualenvs/day12-trulens-b1AmT3gU-py3.10/lib/python3.10/site-packages (from streamlit>=1.27.0->trulens_eval==0.18.3) (0.8.0)\n",
            "Requirement already satisfied: tornado<7,>=6.0.3 in /home/michaelromagne/.cache/pypoetry/virtualenvs/day12-trulens-b1AmT3gU-py3.10/lib/python3.10/site-packages (from streamlit>=1.27.0->trulens_eval==0.18.3) (6.4)\n",
            "Requirement already satisfied: watchdog>=2.1.5 in /home/michaelromagne/.cache/pypoetry/virtualenvs/day12-trulens-b1AmT3gU-py3.10/lib/python3.10/site-packages (from streamlit>=1.27.0->trulens_eval==0.18.3) (3.0.0)\n",
            "Requirement already satisfied: python-decouple<4.0,>=3.6 in /home/michaelromagne/.cache/pypoetry/virtualenvs/day12-trulens-b1AmT3gU-py3.10/lib/python3.10/site-packages (from streamlit-aggrid>=0.3.4.post3->trulens_eval==0.18.3) (3.8)\n",
            "Requirement already satisfied: entrypoints>=0.4 in /home/michaelromagne/.cache/pypoetry/virtualenvs/day12-trulens-b1AmT3gU-py3.10/lib/python3.10/site-packages (from streamlit-extras>=0.2.7->trulens_eval==0.18.3) (0.4)\n",
            "Requirement already satisfied: htbuilder>=0.6.2 in /home/michaelromagne/.cache/pypoetry/virtualenvs/day12-trulens-b1AmT3gU-py3.10/lib/python3.10/site-packages (from streamlit-extras>=0.2.7->trulens_eval==0.18.3) (0.6.2)\n",
            "Requirement already satisfied: markdownlit>=0.0.5 in /home/michaelromagne/.cache/pypoetry/virtualenvs/day12-trulens-b1AmT3gU-py3.10/lib/python3.10/site-packages (from streamlit-extras>=0.2.7->trulens_eval==0.18.3) (0.0.7)\n",
            "Requirement already satisfied: st-annotated-text>=3.0.0 in /home/michaelromagne/.cache/pypoetry/virtualenvs/day12-trulens-b1AmT3gU-py3.10/lib/python3.10/site-packages (from streamlit-extras>=0.2.7->trulens_eval==0.18.3) (4.0.1)\n",
            "Requirement already satisfied: streamlit-camera-input-live>=0.2.0 in /home/michaelromagne/.cache/pypoetry/virtualenvs/day12-trulens-b1AmT3gU-py3.10/lib/python3.10/site-packages (from streamlit-extras>=0.2.7->trulens_eval==0.18.3) (0.2.0)\n",
            "Requirement already satisfied: streamlit-card>=0.0.4 in /home/michaelromagne/.cache/pypoetry/virtualenvs/day12-trulens-b1AmT3gU-py3.10/lib/python3.10/site-packages (from streamlit-extras>=0.2.7->trulens_eval==0.18.3) (1.0.0)\n",
            "Requirement already satisfied: streamlit-embedcode>=0.1.2 in /home/michaelromagne/.cache/pypoetry/virtualenvs/day12-trulens-b1AmT3gU-py3.10/lib/python3.10/site-packages (from streamlit-extras>=0.2.7->trulens_eval==0.18.3) (0.1.2)\n",
            "Requirement already satisfied: streamlit-faker>=0.0.2 in /home/michaelromagne/.cache/pypoetry/virtualenvs/day12-trulens-b1AmT3gU-py3.10/lib/python3.10/site-packages (from streamlit-extras>=0.2.7->trulens_eval==0.18.3) (0.0.3)\n",
            "Requirement already satisfied: streamlit-image-coordinates<0.2.0,>=0.1.1 in /home/michaelromagne/.cache/pypoetry/virtualenvs/day12-trulens-b1AmT3gU-py3.10/lib/python3.10/site-packages (from streamlit-extras>=0.2.7->trulens_eval==0.18.3) (0.1.6)\n",
            "Requirement already satisfied: streamlit-keyup>=0.1.9 in /home/michaelromagne/.cache/pypoetry/virtualenvs/day12-trulens-b1AmT3gU-py3.10/lib/python3.10/site-packages (from streamlit-extras>=0.2.7->trulens_eval==0.18.3) (0.2.2)\n",
            "Requirement already satisfied: streamlit-toggle-switch>=1.0.2 in /home/michaelromagne/.cache/pypoetry/virtualenvs/day12-trulens-b1AmT3gU-py3.10/lib/python3.10/site-packages (from streamlit-extras>=0.2.7->trulens_eval==0.18.3) (1.0.2)\n",
            "Requirement already satisfied: streamlit-vertical-slider>=1.0.2 in /home/michaelromagne/.cache/pypoetry/virtualenvs/day12-trulens-b1AmT3gU-py3.10/lib/python3.10/site-packages (from streamlit-extras>=0.2.7->trulens_eval==0.18.3) (1.0.2)\n",
            "Requirement already satisfied: filelock in /home/michaelromagne/.cache/pypoetry/virtualenvs/day12-trulens-b1AmT3gU-py3.10/lib/python3.10/site-packages (from transformers>=4.10.0->trulens_eval==0.18.3) (3.13.1)\n",
            "Requirement already satisfied: regex!=2019.12.17 in /home/michaelromagne/.cache/pypoetry/virtualenvs/day12-trulens-b1AmT3gU-py3.10/lib/python3.10/site-packages (from transformers>=4.10.0->trulens_eval==0.18.3) (2023.10.3)\n",
            "Requirement already satisfied: tokenizers<0.19,>=0.14 in /home/michaelromagne/.cache/pypoetry/virtualenvs/day12-trulens-b1AmT3gU-py3.10/lib/python3.10/site-packages (from transformers>=4.10.0->trulens_eval==0.18.3) (0.15.0)\n",
            "Requirement already satisfied: safetensors>=0.3.1 in /home/michaelromagne/.cache/pypoetry/virtualenvs/day12-trulens-b1AmT3gU-py3.10/lib/python3.10/site-packages (from transformers>=4.10.0->trulens_eval==0.18.3) (0.4.1)\n",
            "Requirement already satisfied: mypy-extensions>=0.3.0 in /home/michaelromagne/.cache/pypoetry/virtualenvs/day12-trulens-b1AmT3gU-py3.10/lib/python3.10/site-packages (from typing-inspect>=0.8.0->trulens_eval==0.18.3) (1.0.0)\n",
            "Requirement already satisfied: attrs>=17.3.0 in /home/michaelromagne/.cache/pypoetry/virtualenvs/day12-trulens-b1AmT3gU-py3.10/lib/python3.10/site-packages (from aiohttp<4.0,>=3.0->cohere>=4.4.1->trulens_eval==0.18.3) (23.1.0)\n",
            "Requirement already satisfied: multidict<7.0,>=4.5 in /home/michaelromagne/.cache/pypoetry/virtualenvs/day12-trulens-b1AmT3gU-py3.10/lib/python3.10/site-packages (from aiohttp<4.0,>=3.0->cohere>=4.4.1->trulens_eval==0.18.3) (6.0.4)\n",
            "Requirement already satisfied: yarl<2.0,>=1.0 in /home/michaelromagne/.cache/pypoetry/virtualenvs/day12-trulens-b1AmT3gU-py3.10/lib/python3.10/site-packages (from aiohttp<4.0,>=3.0->cohere>=4.4.1->trulens_eval==0.18.3) (1.9.4)\n",
            "Requirement already satisfied: frozenlist>=1.1.1 in /home/michaelromagne/.cache/pypoetry/virtualenvs/day12-trulens-b1AmT3gU-py3.10/lib/python3.10/site-packages (from aiohttp<4.0,>=3.0->cohere>=4.4.1->trulens_eval==0.18.3) (1.4.0)\n",
            "Requirement already satisfied: aiosignal>=1.1.2 in /home/michaelromagne/.cache/pypoetry/virtualenvs/day12-trulens-b1AmT3gU-py3.10/lib/python3.10/site-packages (from aiohttp<4.0,>=3.0->cohere>=4.4.1->trulens_eval==0.18.3) (1.3.1)\n",
            "Requirement already satisfied: jinja2 in /home/michaelromagne/.cache/pypoetry/virtualenvs/day12-trulens-b1AmT3gU-py3.10/lib/python3.10/site-packages (from altair<6,>=4.0->streamlit>=1.27.0->trulens_eval==0.18.3) (3.1.2)\n",
            "Requirement already satisfied: jsonschema>=3.0 in /home/michaelromagne/.cache/pypoetry/virtualenvs/day12-trulens-b1AmT3gU-py3.10/lib/python3.10/site-packages (from altair<6,>=4.0->streamlit>=1.27.0->trulens_eval==0.18.3) (4.20.0)\n",
            "Requirement already satisfied: toolz in /home/michaelromagne/.cache/pypoetry/virtualenvs/day12-trulens-b1AmT3gU-py3.10/lib/python3.10/site-packages (from altair<6,>=4.0->streamlit>=1.27.0->trulens_eval==0.18.3) (0.12.0)\n",
            "Requirement already satisfied: soupsieve>1.2 in /home/michaelromagne/.cache/pypoetry/virtualenvs/day12-trulens-b1AmT3gU-py3.10/lib/python3.10/site-packages (from beautifulsoup4<5.0.0,>=4.12.2->llama-index>=0.8.69->trulens_eval==0.18.3) (2.5)\n",
            "Requirement already satisfied: marshmallow<4.0.0,>=3.18.0 in /home/michaelromagne/.cache/pypoetry/virtualenvs/day12-trulens-b1AmT3gU-py3.10/lib/python3.10/site-packages (from dataclasses-json<0.7,>=0.5.7->langchain>=0.0.335->trulens_eval==0.18.3) (3.20.1)\n",
            "Requirement already satisfied: wrapt<2,>=1.10 in /home/michaelromagne/.cache/pypoetry/virtualenvs/day12-trulens-b1AmT3gU-py3.10/lib/python3.10/site-packages (from deprecated>=1.2.9.3->llama-index>=0.8.69->trulens_eval==0.18.3) (1.16.0)\n",
            "Requirement already satisfied: gitdb<5,>=4.0.1 in /home/michaelromagne/.cache/pypoetry/virtualenvs/day12-trulens-b1AmT3gU-py3.10/lib/python3.10/site-packages (from gitpython!=3.1.19,<4,>=3.0.7->streamlit>=1.27.0->trulens_eval==0.18.3) (4.0.11)\n",
            "Requirement already satisfied: more-itertools in /home/michaelromagne/.cache/pypoetry/virtualenvs/day12-trulens-b1AmT3gU-py3.10/lib/python3.10/site-packages (from htbuilder>=0.6.2->streamlit-extras>=0.2.7->trulens_eval==0.18.3) (10.1.0)\n",
            "Requirement already satisfied: zipp>=0.5 in /home/michaelromagne/.cache/pypoetry/virtualenvs/day12-trulens-b1AmT3gU-py3.10/lib/python3.10/site-packages (from importlib_metadata<7.0,>=6.0->cohere>=4.4.1->trulens_eval==0.18.3) (3.17.0)\n",
            "Requirement already satisfied: decorator in /home/michaelromagne/.cache/pypoetry/virtualenvs/day12-trulens-b1AmT3gU-py3.10/lib/python3.10/site-packages (from ipython>=6.1.0->ipywidgets>=8.0.6->trulens_eval==0.18.3) (5.1.1)\n",
            "Requirement already satisfied: jedi>=0.16 in /home/michaelromagne/.cache/pypoetry/virtualenvs/day12-trulens-b1AmT3gU-py3.10/lib/python3.10/site-packages (from ipython>=6.1.0->ipywidgets>=8.0.6->trulens_eval==0.18.3) (0.19.1)\n",
            "Requirement already satisfied: matplotlib-inline in /home/michaelromagne/.cache/pypoetry/virtualenvs/day12-trulens-b1AmT3gU-py3.10/lib/python3.10/site-packages (from ipython>=6.1.0->ipywidgets>=8.0.6->trulens_eval==0.18.3) (0.1.6)\n",
            "Requirement already satisfied: prompt-toolkit<3.1.0,>=3.0.41 in /home/michaelromagne/.cache/pypoetry/virtualenvs/day12-trulens-b1AmT3gU-py3.10/lib/python3.10/site-packages (from ipython>=6.1.0->ipywidgets>=8.0.6->trulens_eval==0.18.3) (3.0.43)\n",
            "Requirement already satisfied: pygments>=2.4.0 in /home/michaelromagne/.cache/pypoetry/virtualenvs/day12-trulens-b1AmT3gU-py3.10/lib/python3.10/site-packages (from ipython>=6.1.0->ipywidgets>=8.0.6->trulens_eval==0.18.3) (2.17.2)\n",
            "Requirement already satisfied: stack-data in /home/michaelromagne/.cache/pypoetry/virtualenvs/day12-trulens-b1AmT3gU-py3.10/lib/python3.10/site-packages (from ipython>=6.1.0->ipywidgets>=8.0.6->trulens_eval==0.18.3) (0.6.3)\n",
            "Requirement already satisfied: pexpect>4.3 in /home/michaelromagne/.cache/pypoetry/virtualenvs/day12-trulens-b1AmT3gU-py3.10/lib/python3.10/site-packages (from ipython>=6.1.0->ipywidgets>=8.0.6->trulens_eval==0.18.3) (4.9.0)\n",
            "Requirement already satisfied: jsonpointer>=1.9 in /home/michaelromagne/.cache/pypoetry/virtualenvs/day12-trulens-b1AmT3gU-py3.10/lib/python3.10/site-packages (from jsonpatch<2.0,>=1.33->langchain>=0.0.335->trulens_eval==0.18.3) (2.4)\n",
            "Requirement already satisfied: markdown in /home/michaelromagne/.cache/pypoetry/virtualenvs/day12-trulens-b1AmT3gU-py3.10/lib/python3.10/site-packages (from markdownlit>=0.0.5->streamlit-extras>=0.2.7->trulens_eval==0.18.3) (3.5.1)\n",
            "Requirement already satisfied: lxml in /home/michaelromagne/.cache/pypoetry/virtualenvs/day12-trulens-b1AmT3gU-py3.10/lib/python3.10/site-packages (from markdownlit>=0.0.5->streamlit-extras>=0.2.7->trulens_eval==0.18.3) (4.9.3)\n",
            "Requirement already satisfied: favicon in /home/michaelromagne/.cache/pypoetry/virtualenvs/day12-trulens-b1AmT3gU-py3.10/lib/python3.10/site-packages (from markdownlit>=0.0.5->streamlit-extras>=0.2.7->trulens_eval==0.18.3) (0.7.0)\n",
            "Requirement already satisfied: pymdown-extensions in /home/michaelromagne/.cache/pypoetry/virtualenvs/day12-trulens-b1AmT3gU-py3.10/lib/python3.10/site-packages (from markdownlit>=0.0.5->streamlit-extras>=0.2.7->trulens_eval==0.18.3) (10.5)\n",
            "Requirement already satisfied: joblib in /home/michaelromagne/.cache/pypoetry/virtualenvs/day12-trulens-b1AmT3gU-py3.10/lib/python3.10/site-packages (from nltk<4.0.0,>=3.8.1->llama-index>=0.8.69->trulens_eval==0.18.3) (1.3.2)\n",
            "Requirement already satisfied: pytz>=2020.1 in /home/michaelromagne/.cache/pypoetry/virtualenvs/day12-trulens-b1AmT3gU-py3.10/lib/python3.10/site-packages (from pandas->datasets>=2.12.0->trulens_eval==0.18.3) (2023.3.post1)\n",
            "Requirement already satisfied: tzdata>=2022.1 in /home/michaelromagne/.cache/pypoetry/virtualenvs/day12-trulens-b1AmT3gU-py3.10/lib/python3.10/site-packages (from pandas->datasets>=2.12.0->trulens_eval==0.18.3) (2023.3)\n",
            "Requirement already satisfied: charset-normalizer<4,>=2 in /home/michaelromagne/.cache/pypoetry/virtualenvs/day12-trulens-b1AmT3gU-py3.10/lib/python3.10/site-packages (from requests<3.0.0,>=2.25.0->cohere>=4.4.1->trulens_eval==0.18.3) (3.3.2)\n",
            "Requirement already satisfied: markdown-it-py>=2.2.0 in /home/michaelromagne/.cache/pypoetry/virtualenvs/day12-trulens-b1AmT3gU-py3.10/lib/python3.10/site-packages (from rich<14,>=10.14.0->streamlit>=1.27.0->trulens_eval==0.18.3) (3.0.0)\n",
            "Requirement already satisfied: faker in /home/michaelromagne/.cache/pypoetry/virtualenvs/day12-trulens-b1AmT3gU-py3.10/lib/python3.10/site-packages (from streamlit-faker>=0.0.2->streamlit-extras>=0.2.7->trulens_eval==0.18.3) (20.1.0)\n",
            "Requirement already satisfied: matplotlib in /home/michaelromagne/.cache/pypoetry/virtualenvs/day12-trulens-b1AmT3gU-py3.10/lib/python3.10/site-packages (from streamlit-faker>=0.0.2->streamlit-extras>=0.2.7->trulens_eval==0.18.3) (3.8.2)\n",
            "Requirement already satisfied: webencodings in /home/michaelromagne/.cache/pypoetry/virtualenvs/day12-trulens-b1AmT3gU-py3.10/lib/python3.10/site-packages (from bleach->kaggle>=1.5.13->trulens_eval==0.18.3) (0.5.1)\n",
            "Requirement already satisfied: MarkupSafe>=0.9.2 in /home/michaelromagne/.cache/pypoetry/virtualenvs/day12-trulens-b1AmT3gU-py3.10/lib/python3.10/site-packages (from Mako->alembic>=1.11.2->trulens_eval==0.18.3) (2.1.3)\n",
            "Requirement already satisfied: text-unidecode>=1.3 in /home/michaelromagne/.cache/pypoetry/virtualenvs/day12-trulens-b1AmT3gU-py3.10/lib/python3.10/site-packages (from python-slugify->kaggle>=1.5.13->trulens_eval==0.18.3) (1.3)\n",
            "Requirement already satisfied: smmap<6,>=3.0.1 in /home/michaelromagne/.cache/pypoetry/virtualenvs/day12-trulens-b1AmT3gU-py3.10/lib/python3.10/site-packages (from gitdb<5,>=4.0.1->gitpython!=3.1.19,<4,>=3.0.7->streamlit>=1.27.0->trulens_eval==0.18.3) (5.0.1)\n",
            "Requirement already satisfied: parso<0.9.0,>=0.8.3 in /home/michaelromagne/.cache/pypoetry/virtualenvs/day12-trulens-b1AmT3gU-py3.10/lib/python3.10/site-packages (from jedi>=0.16->ipython>=6.1.0->ipywidgets>=8.0.6->trulens_eval==0.18.3) (0.8.3)\n",
            "Requirement already satisfied: jsonschema-specifications>=2023.03.6 in /home/michaelromagne/.cache/pypoetry/virtualenvs/day12-trulens-b1AmT3gU-py3.10/lib/python3.10/site-packages (from jsonschema>=3.0->altair<6,>=4.0->streamlit>=1.27.0->trulens_eval==0.18.3) (2023.11.2)\n",
            "Requirement already satisfied: referencing>=0.28.4 in /home/michaelromagne/.cache/pypoetry/virtualenvs/day12-trulens-b1AmT3gU-py3.10/lib/python3.10/site-packages (from jsonschema>=3.0->altair<6,>=4.0->streamlit>=1.27.0->trulens_eval==0.18.3) (0.32.0)\n",
            "Requirement already satisfied: rpds-py>=0.7.1 in /home/michaelromagne/.cache/pypoetry/virtualenvs/day12-trulens-b1AmT3gU-py3.10/lib/python3.10/site-packages (from jsonschema>=3.0->altair<6,>=4.0->streamlit>=1.27.0->trulens_eval==0.18.3) (0.13.2)\n",
            "Requirement already satisfied: mdurl~=0.1 in /home/michaelromagne/.cache/pypoetry/virtualenvs/day12-trulens-b1AmT3gU-py3.10/lib/python3.10/site-packages (from markdown-it-py>=2.2.0->rich<14,>=10.14.0->streamlit>=1.27.0->trulens_eval==0.18.3) (0.1.2)\n",
            "Requirement already satisfied: ptyprocess>=0.5 in /home/michaelromagne/.cache/pypoetry/virtualenvs/day12-trulens-b1AmT3gU-py3.10/lib/python3.10/site-packages (from pexpect>4.3->ipython>=6.1.0->ipywidgets>=8.0.6->trulens_eval==0.18.3) (0.7.0)\n",
            "Requirement already satisfied: wcwidth in /home/michaelromagne/.cache/pypoetry/virtualenvs/day12-trulens-b1AmT3gU-py3.10/lib/python3.10/site-packages (from prompt-toolkit<3.1.0,>=3.0.41->ipython>=6.1.0->ipywidgets>=8.0.6->trulens_eval==0.18.3) (0.2.12)\n",
            "Requirement already satisfied: contourpy>=1.0.1 in /home/michaelromagne/.cache/pypoetry/virtualenvs/day12-trulens-b1AmT3gU-py3.10/lib/python3.10/site-packages (from matplotlib->streamlit-faker>=0.0.2->streamlit-extras>=0.2.7->trulens_eval==0.18.3) (1.2.0)\n",
            "Requirement already satisfied: cycler>=0.10 in /home/michaelromagne/.cache/pypoetry/virtualenvs/day12-trulens-b1AmT3gU-py3.10/lib/python3.10/site-packages (from matplotlib->streamlit-faker>=0.0.2->streamlit-extras>=0.2.7->trulens_eval==0.18.3) (0.12.1)\n",
            "Requirement already satisfied: fonttools>=4.22.0 in /home/michaelromagne/.cache/pypoetry/virtualenvs/day12-trulens-b1AmT3gU-py3.10/lib/python3.10/site-packages (from matplotlib->streamlit-faker>=0.0.2->streamlit-extras>=0.2.7->trulens_eval==0.18.3) (4.46.0)\n",
            "Requirement already satisfied: kiwisolver>=1.3.1 in /home/michaelromagne/.cache/pypoetry/virtualenvs/day12-trulens-b1AmT3gU-py3.10/lib/python3.10/site-packages (from matplotlib->streamlit-faker>=0.0.2->streamlit-extras>=0.2.7->trulens_eval==0.18.3) (1.4.5)\n",
            "Requirement already satisfied: pyparsing>=2.3.1 in /home/michaelromagne/.cache/pypoetry/virtualenvs/day12-trulens-b1AmT3gU-py3.10/lib/python3.10/site-packages (from matplotlib->streamlit-faker>=0.0.2->streamlit-extras>=0.2.7->trulens_eval==0.18.3) (3.1.1)\n",
            "Requirement already satisfied: executing>=1.2.0 in /home/michaelromagne/.cache/pypoetry/virtualenvs/day12-trulens-b1AmT3gU-py3.10/lib/python3.10/site-packages (from stack-data->ipython>=6.1.0->ipywidgets>=8.0.6->trulens_eval==0.18.3) (2.0.1)\n",
            "Requirement already satisfied: asttokens>=2.1.0 in /home/michaelromagne/.cache/pypoetry/virtualenvs/day12-trulens-b1AmT3gU-py3.10/lib/python3.10/site-packages (from stack-data->ipython>=6.1.0->ipywidgets>=8.0.6->trulens_eval==0.18.3) (2.4.1)\n",
            "Requirement already satisfied: pure-eval in /home/michaelromagne/.cache/pypoetry/virtualenvs/day12-trulens-b1AmT3gU-py3.10/lib/python3.10/site-packages (from stack-data->ipython>=6.1.0->ipywidgets>=8.0.6->trulens_eval==0.18.3) (0.2.2)\n"
          ]
        }
      ],
      "source": [
        "! pip install trulens_eval==0.18.3 openai==1.3.7"
      ]
    },
    {
      "cell_type": "code",
      "execution_count": 2,
      "metadata": {
        "id": "mOBDU1m3eESV"
      },
      "outputs": [],
      "source": [
        "import os\n",
        "os.environ[\"OPENAI_API_KEY\"] = \"...\"\n",
        "os.environ[\"HUGGINGFACE_API_KEY\"] = \"...\""
      ]
    },
    {
      "cell_type": "markdown",
      "metadata": {
        "id": "RIZGK3QceESV"
      },
      "source": [
        "### Import from LangChain and TruLens"
      ]
    },
    {
      "cell_type": "code",
      "execution_count": null,
      "metadata": {
        "id": "h_RNmJdheESW"
      },
      "outputs": [],
      "source": [
        "from IPython.display import JSON\n",
        "\n",
        "# Imports main tools:\n",
        "from trulens_eval import TruChain, Feedback, Huggingface, Tru\n",
        "from trulens_eval.schema import FeedbackResult\n",
        "tru = Tru()\n",
        "\n",
        "# Imports from langchain to build app. You may need to install langchain first\n",
        "# with the following:\n",
        "# ! pip install langchain>=0.0.170\n",
        "from langchain.chains import LLMChain\n",
        "from langchain.llms import OpenAI\n",
        "from langchain.prompts import ChatPromptTemplate, PromptTemplate\n",
        "from langchain.prompts import HumanMessagePromptTemplate"
      ]
    },
    {
      "cell_type": "markdown",
      "metadata": {
        "id": "nqvye7ZOeESW"
      },
      "source": [
        "### Create Simple LLM Application\n",
        "\n",
        "This example uses a LangChain framework and OpenAI LLM"
      ]
    },
    {
      "cell_type": "code",
      "execution_count": null,
      "metadata": {
        "id": "ZwGw1IEXeESW"
      },
      "outputs": [],
      "source": [
        "full_prompt = HumanMessagePromptTemplate(\n",
        "    prompt=PromptTemplate(\n",
        "        template=\n",
        "        \"Provide a helpful response with relevant background information for the following: {prompt}\",\n",
        "        input_variables=[\"prompt\"],\n",
        "    )\n",
        ")\n",
        "\n",
        "chat_prompt_template = ChatPromptTemplate.from_messages([full_prompt])\n",
        "\n",
        "llm = OpenAI(temperature=0.9, max_tokens=128)\n",
        "\n",
        "chain = LLMChain(llm=llm, prompt=chat_prompt_template, verbose=True)"
      ]
    },
    {
      "cell_type": "markdown",
      "metadata": {
        "id": "B5toN-8ReESX"
      },
      "source": [
        "### Send your first request"
      ]
    },
    {
      "cell_type": "code",
      "execution_count": null,
      "metadata": {
        "id": "6rTLaHmdeESX"
      },
      "outputs": [],
      "source": [
        "prompt_input = '¿que hora es?'"
      ]
    },
    {
      "cell_type": "code",
      "execution_count": null,
      "metadata": {
        "id": "phsKdPU-eESY"
      },
      "outputs": [],
      "source": [
        "llm_response = chain(prompt_input)\n",
        "\n",
        "display(llm_response)"
      ]
    },
    {
      "cell_type": "markdown",
      "metadata": {
        "id": "ZKzdGTJ8eESY"
      },
      "source": [
        "## Initialize Feedback Function(s)"
      ]
    },
    {
      "cell_type": "code",
      "execution_count": null,
      "metadata": {
        "id": "vQK1gF-9eESZ"
      },
      "outputs": [],
      "source": [
        "# Initialize Huggingface-based feedback function collection class:\n",
        "hugs = Huggingface()\n",
        "\n",
        "# Define a language match feedback function using HuggingFace.\n",
        "f_lang_match = Feedback(hugs.language_match).on_input_output()\n",
        "# By default this will check language match on the main app input and main app\n",
        "# output."
      ]
    },
    {
      "cell_type": "markdown",
      "metadata": {
        "id": "INhRpaNUeESZ"
      },
      "source": [
        "## Instrument chain for logging with TruLens"
      ]
    },
    {
      "cell_type": "code",
      "execution_count": null,
      "metadata": {
        "id": "CsItynu8eESZ"
      },
      "outputs": [],
      "source": [
        "tru_recorder = TruChain(chain,\n",
        "    app_id='Chain1_ChatApplication',\n",
        "    feedbacks=[f_lang_match])"
      ]
    },
    {
      "cell_type": "code",
      "execution_count": null,
      "metadata": {
        "id": "4Zul3GtBeESZ"
      },
      "outputs": [],
      "source": [
        "with tru_recorder as recording:\n",
        "    llm_response = chain(prompt_input)\n",
        "\n",
        "display(llm_response)"
      ]
    },
    {
      "cell_type": "markdown",
      "metadata": {
        "id": "y4gAgXDjeESZ"
      },
      "source": [
        "## Retrieve records and feedback"
      ]
    },
    {
      "cell_type": "code",
      "execution_count": null,
      "metadata": {
        "id": "rjpD--SQeESa"
      },
      "outputs": [],
      "source": [
        "# The record of the ap invocation can be retrieved from the `recording`:\n",
        "\n",
        "rec = recording.get() # use .get if only one record\n",
        "# recs = recording.records # use .records if multiple\n",
        "\n",
        "display(rec)"
      ]
    },
    {
      "cell_type": "code",
      "execution_count": null,
      "metadata": {
        "id": "OxEzm1preESa"
      },
      "outputs": [],
      "source": [
        "# The results of the feedback functions can be rertireved from the record. These\n",
        "# are `Future` instances (see `concurrent.futures`). You can use `as_completed`\n",
        "# to wait until they have finished evaluating.\n",
        "\n",
        "from concurrent.futures import as_completed\n",
        "\n",
        "for feedback_future in  as_completed(rec.feedback_results):\n",
        "    feedback, feedback_result = feedback_future.result()\n",
        "\n",
        "    feedback: Feedback\n",
        "    feedbac_result: FeedbackResult\n",
        "\n",
        "    display(feedback.name, feedback_result.result)\n"
      ]
    },
    {
      "cell_type": "markdown",
      "metadata": {
        "id": "niLiIkvTeESa"
      },
      "source": [
        "## Explore in a Dashboard"
      ]
    },
    {
      "cell_type": "code",
      "execution_count": null,
      "metadata": {
        "id": "2v_qrOkxeESa"
      },
      "outputs": [],
      "source": [
        "tru.run_dashboard() # open a local streamlit app to explore\n",
        "\n",
        "# tru.stop_dashboard() # stop if needed"
      ]
    },
    {
      "cell_type": "markdown",
      "metadata": {
        "id": "T7Xlac0ReESa"
      },
      "source": [
        "Alternatively, you can run `trulens-eval` from a command line in the same folder to start the dashboard."
      ]
    },
    {
      "cell_type": "markdown",
      "metadata": {
        "id": "sVDQo3vxeESa"
      },
      "source": [
        "Note: Feedback functions evaluated in the deferred manner can be seen in the \"Progress\" page of the TruLens dashboard."
      ]
    },
    {
      "cell_type": "markdown",
      "metadata": {
        "id": "gTDLrUz7eESb"
      },
      "source": [
        "## Or view results directly in your notebook"
      ]
    },
    {
      "cell_type": "code",
      "execution_count": null,
      "metadata": {
        "id": "TumqyJ0yeESb"
      },
      "outputs": [],
      "source": [
        "tru.get_records_and_feedback(app_ids=[])[0] # pass an empty list of app_ids to get all"
      ]
    }
  ],
  "metadata": {
    "colab": {
      "provenance": []
    },
    "kernelspec": {
      "display_name": "Python 3 (ipykernel)",
      "language": "python",
      "name": "python3"
    },
    "language_info": {
      "codemirror_mode": {
        "name": "ipython",
        "version": 3
      },
      "file_extension": ".py",
      "mimetype": "text/x-python",
      "name": "python",
      "nbconvert_exporter": "python",
      "pygments_lexer": "ipython3",
      "version": "3.10.13"
    },
    "vscode": {
      "interpreter": {
        "hash": "d5737f6101ac92451320b0e41890107145710b89f85909f3780d702e7818f973"
      }
    }
  },
  "nbformat": 4,
  "nbformat_minor": 0
}
